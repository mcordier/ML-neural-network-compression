{
 "cells": [
  {
   "cell_type": "code",
   "execution_count": 55,
   "metadata": {},
   "outputs": [
    {
     "name": "stdout",
     "output_type": "stream",
     "text": [
      "Packages loaded.\n"
     ]
    }
   ],
   "source": [
    "import matplotlib.pyplot as plt\n",
    "import numpy as np\n",
    "from numpy.linalg import eig\n",
    "import pandas as pd\n",
    "import scipy.linalg as la\n",
    "from scipy.spatial.distance import pdist, squareform, cdist\n",
    "from sklearn.metrics.pairwise import polynomial_kernel, cosine_similarity\n",
    "from sklearn.metrics.pairwise import sigmoid_kernel, linear_kernel\n",
    "from sklearn.metrics.pairwise import laplacian_kernel\n",
    "from scipy.optimize import minimize\n",
    "import pdb\n",
    "import tensorflow as tf\n",
    "from kdpp import kDPP\n",
    "np.random.seed(1) #Fix the seed\n",
    "print (\"Packages loaded.\")"
   ]
  },
  {
   "cell_type": "markdown",
   "metadata": {},
   "source": [
    "# 1) Introduction to DPP : a very simple example\n",
    "We would like to test our kdpp class for a very simple example in two dimension"
   ]
  },
  {
   "cell_type": "code",
   "execution_count": 2,
   "metadata": {},
   "outputs": [],
   "source": [
    "# Gaussian Kernel\n",
    "def kernel_se(_X1,_X2,_hyp={'gain':1,'len':1,'noise':1e-8}):\n",
    "    hyp_gain = float(_hyp['gain'])**2\n",
    "    hyp_len  = 1/float(_hyp['len'])\n",
    "    pairwise_dists = cdist(_X1,_X2,'euclidean')\n",
    "    K = hyp_gain*np.exp(-pairwise_dists ** 2 / (hyp_len**2))\n",
    "    return K"
   ]
  },
  {
   "cell_type": "code",
   "execution_count": 3,
   "metadata": {},
   "outputs": [
    {
     "data": {
      "image/png": "[encoded data removed]",
      "text/plain": [
       "<Figure size 432x432 with 1 Axes>"
      ]
     },
     "metadata": {
      "needs_background": "light"
     },
     "output_type": "display_data"
    }
   ],
   "source": [
    "# Data\n",
    "n = 200\n",
    "k = 10\n",
    "x = np.random.rand(n,2)\n",
    "\n",
    "# K-DPP and randomm sample \n",
    "kdpp = kDPP(x, kernel_se)\n",
    "kdpp_out,_ = kdpp.sample(k = k)\n",
    "rand_out = x[np.random.permutation(n)[:k],:]\n",
    "\n",
    "# Plot\n",
    "plt.figure(figsize=(6,6))\n",
    "plt.plot(x[:,0],x[:,1],'k.')\n",
    "hr, = plt.plot(rand_out[:,0],rand_out[:,1],marker='o',mec='blue',mfc='None',markersize=15,linestyle='None',mew=4)\n",
    "hk, = plt.plot(kdpp_out[:,0],kdpp_out[:,1],marker='o',mec='red',mfc='None',markersize=15,linestyle='None',mew=4)\n",
    "plt.xlim(0.0,1.0); plt.ylim(0.0,1.0)\n",
    "plt.gca().set_aspect('equal', adjustable='box')\n",
    "plt.legend([hr,hk],['Random sample','K-DPP'],fontsize=15,loc='upper right')\n",
    "plt.show()"
   ]
  },
  {
   "cell_type": "markdown",
   "metadata": {},
   "source": [
    "# 2) Kernels definition\n",
    "We want to compare the efficiency of the algorithm with different kernels. We define them here (or recall the function call for sklearn kernels"
   ]
  },
  {
   "cell_type": "code",
   "execution_count": 75,
   "metadata": {},
   "outputs": [],
   "source": [
    "def angular(X1, X2, *args):\n",
    "    def Gort(G):\n",
    "        Q, R = np.linalg.qr(G)\n",
    "        return Q\n",
    "    Gort = Gort(np.random.normal(size=(len(X1),len(X1))))\n",
    "    phi1 = 1/np.sqrt(len(X1))*np.sign(np.dot(Gort,X1))\n",
    "    phi2 = 1/np.sqrt(len(X2))*np.sign(np.dot(Gort,X2))\n",
    "    return np.dot(phi1,phi2.T)\n",
    "\n",
    "# sklearn kernels : cosine_similarity(X1,X2), polynomial_kernel(X1,X2), \n",
    "# laplacian_kernel(X1,X2), sigmoid_kernel(X1,X2), angular(X1,X2), linear_kernel(X1,X2)"
   ]
  },
  {
   "cell_type": "markdown",
   "metadata": {},
   "source": [
    "# 3) Building and training the network"
   ]
  },
  {
   "cell_type": "code",
   "execution_count": 5,
   "metadata": {
    "scrolled": true
   },
   "outputs": [
    {
     "name": "stdout",
     "output_type": "stream",
     "text": [
      "WARNING:tensorflow:From <ipython-input-5-5c81c5f4c9da>:3: read_data_sets (from tensorflow.contrib.learn.python.learn.datasets.mnist) is deprecated and will be removed in a future version.\n",
      "Instructions for updating:\n",
      "Please use alternatives such as official/mnist/dataset.py from tensorflow/models.\n",
      "WARNING:tensorflow:From /anaconda3/lib/python3.7/site-packages/tensorflow/contrib/learn/python/learn/datasets/mnist.py:260: maybe_download (from tensorflow.contrib.learn.python.learn.datasets.base) is deprecated and will be removed in a future version.\n",
      "Instructions for updating:\n",
      "Please write your own downloading logic.\n",
      "WARNING:tensorflow:From /anaconda3/lib/python3.7/site-packages/tensorflow/contrib/learn/python/learn/datasets/mnist.py:262: extract_images (from tensorflow.contrib.learn.python.learn.datasets.mnist) is deprecated and will be removed in a future version.\n",
      "Instructions for updating:\n",
      "Please use tf.data to implement this functionality.\n",
      "Extracting MNIST_data/train-images-idx3-ubyte.gz\n",
      "WARNING:tensorflow:From /anaconda3/lib/python3.7/site-packages/tensorflow/contrib/learn/python/learn/datasets/mnist.py:267: extract_labels (from tensorflow.contrib.learn.python.learn.datasets.mnist) is deprecated and will be removed in a future version.\n",
      "Instructions for updating:\n",
      "Please use tf.data to implement this functionality.\n",
      "Extracting MNIST_data/train-labels-idx1-ubyte.gz\n",
      "WARNING:tensorflow:From /anaconda3/lib/python3.7/site-packages/tensorflow/contrib/learn/python/learn/datasets/mnist.py:110: dense_to_one_hot (from tensorflow.contrib.learn.python.learn.datasets.mnist) is deprecated and will be removed in a future version.\n",
      "Instructions for updating:\n",
      "Please use tf.one_hot on tensors.\n",
      "Extracting MNIST_data/t10k-images-idx3-ubyte.gz\n",
      "Extracting MNIST_data/t10k-labels-idx1-ubyte.gz\n",
      "WARNING:tensorflow:From /anaconda3/lib/python3.7/site-packages/tensorflow/contrib/learn/python/learn/datasets/mnist.py:290: DataSet.__init__ (from tensorflow.contrib.learn.python.learn.datasets.mnist) is deprecated and will be removed in a future version.\n",
      "Instructions for updating:\n",
      "Please use alternatives such as official/mnist/dataset.py from tensorflow/models.\n"
     ]
    }
   ],
   "source": [
    "from tensorflow.examples.tutorials.mnist import input_data\n",
    "\n",
    "mnist = input_data.read_data_sets(\"MNIST_data/\", one_hot=True)"
   ]
  },
  {
   "cell_type": "code",
   "execution_count": 6,
   "metadata": {},
   "outputs": [],
   "source": [
    "def network(data=mnist, learning_rate = 0.05, epochs = 30,\n",
    "                batch_size = 100, hidden1 = 500, hidden2 = 500):\n",
    "    '''\n",
    "    Creates a 2 layers fully connected neural network\n",
    "    '''\n",
    "    # declare the training data placeholders\n",
    "    # input x - for 28 x 28 pixels = 784\n",
    "    x = tf.placeholder(tf.float32, [None, 784])\n",
    "    # now declare the output data placeholder - 10 digits\n",
    "    y = tf.placeholder(tf.float32, [None, 10])\n",
    "\n",
    "    # now declare the weights connecting the input to the hidden layer\n",
    "    W1 = tf.Variable(tf.random_normal([784, hidden1], stddev=0.03), name='W1')\n",
    "    b1 = tf.Variable(tf.random_normal([hidden1]), name='b1')\n",
    "    # the weights connecting the hidden layer to the other hidden layer\n",
    "    W2 = tf.Variable(tf.random_normal([hidden1, hidden2], stddev=0.03), name='W2')\n",
    "    b2 = tf.Variable(tf.random_normal([hidden2]), name='b2')\n",
    "    # and the weights connecting the hidden layer to the output layer\n",
    "    W3 = tf.Variable(tf.random_normal([hidden2, 10], stddev=0.03), name='W2')\n",
    "    b3 = tf.Variable(tf.random_normal([10]), name='b2')\n",
    "\n",
    "    # calculate the output of the hidden layers\n",
    "    hidden_out_1 = tf.add(tf.matmul(x, W1), b1)\n",
    "    hidden_out_1 = tf.nn.relu(hidden_out_1)\n",
    "    hidden_out_2 = tf.nn.relu(tf.add(tf.matmul(hidden_out_1, W2), b2))\n",
    "    # now calculate the hidden layer output - in this case, let's use a softmax activated\n",
    "    # output layer\n",
    "    y_ = tf.nn.softmax(tf.add(tf.matmul(hidden_out_2, W3), b3))\n",
    "\n",
    "\n",
    "    #Compute cross entropy\n",
    "    y_clipped = tf.clip_by_value(y_, 1e-10, 0.9999999) # Being sure we don't have ln(0)\n",
    "    cross_entropy = -tf.reduce_mean(tf.reduce_sum(y * tf.log(y_clipped)\n",
    "                             + (1 - y) * tf.log(1 - y_clipped), axis=1))\n",
    "\n",
    "    # add an optimiser\n",
    "    optimiser = tf.train.GradientDescentOptimizer(learning_rate=learning_rate).minimize(cross_entropy)\n",
    "\n",
    "    # finally setup the initialisation operator\n",
    "    init_op = tf.global_variables_initializer()\n",
    "\n",
    "    # define an accuracy assessment operation\n",
    "    correct_prediction = tf.equal(tf.argmax(y, 1), tf.argmax(y_, 1))\n",
    "    accuracy = tf.reduce_mean(tf.cast(correct_prediction, tf.float32))\n",
    "    \n",
    "    # start the session\n",
    "    with tf.Session() as sess:\n",
    "        # initialise the variables\n",
    "        sess.run(init_op)\n",
    "        total_batch = int(len(data.train.labels) / batch_size)\n",
    "        for epoch in range(epochs):\n",
    "            avg_cost = 0\n",
    "            for i in range(total_batch):\n",
    "                batch_x, batch_y = data.train.next_batch(batch_size=batch_size)\n",
    "                _, c = sess.run([optimiser, cross_entropy], \n",
    "                             feed_dict={x: batch_x, y: batch_y})\n",
    "                avg_cost += c / total_batch\n",
    "            print(\"Epoch:\", (epoch + 1), \"cost =\", \"{:.3f}\".format(avg_cost))\n",
    "        print(sess.run(accuracy, feed_dict={x: mnist.test.images, y: mnist.test.labels}))\n",
    "        Weights1 = sess.run(W1)\n",
    "        Weights2 = sess.run(W2)\n",
    "        Weights3 = sess.run(W3)\n",
    "        bias1 = sess.run(b1)\n",
    "        bias2 = sess.run(b2)\n",
    "        bias3 = sess.run(b3)\n",
    "    parameters = [(Weights1, bias1), (Weights2, bias2), (Weights3, bias3)]\n",
    "    return parameters"
   ]
  },
  {
   "cell_type": "markdown",
   "metadata": {},
   "source": [
    "# 4) Neural Network compression procedure\n",
    "We start by giving the rebuild_act_labels function which compute the activation vector of each neurons of a layer"
   ]
  },
  {
   "cell_type": "code",
   "execution_count": 7,
   "metadata": {},
   "outputs": [],
   "source": [
    "def rebuild_act_labels_mean(Weights1,  Weights2, bias1, bias2):\n",
    "    #Rebuild the activations:\n",
    "    act_layer1 = np.zeros((10,len(bias1)))\n",
    "    act_layer2 = np.zeros((10,len(bias2)))\n",
    "    \n",
    "    for i in range(len(mnist.train.images)):\n",
    "        act_layer1[np.argmax(mnist.train.labels[i]),:] += np.maximum(\n",
    "            0,(np.dot(Weights1.T, mnist.train.images[i]) + bias1))\n",
    "        act_layer2[np.argmax(mnist.train.labels[i]),:] += np.maximum(\n",
    "            0,(np.dot(Weights2.T, act_layer1[np.argmax(mnist.train.labels[i]),:] ) + bias2))\n",
    "        \n",
    "    for i in range(10):\n",
    "        count = np.sum(i == np.argmax(mnist.train.labels, axis = 1))\n",
    "        act_layer1[i,:] /= count\n",
    "        act_layer2[i,:] /= count\n",
    "        \n",
    "    return act_layer1, act_layer2"
   ]
  },
  {
   "cell_type": "code",
   "execution_count": 8,
   "metadata": {},
   "outputs": [],
   "source": [
    "def softmax(x):\n",
    "    \"\"\"\n",
    "    Compute softmax values for each sets of scores in x.\n",
    "    \n",
    "    Rows are scores for each class. \n",
    "    Columns are predictions (samples).\n",
    "    \"\"\"\n",
    "    scoreMatExp = np.exp(np.asarray(x))\n",
    "    return scoreMatExp / scoreMatExp.sum(0)"
   ]
  },
  {
   "cell_type": "code",
   "execution_count": 9,
   "metadata": {},
   "outputs": [],
   "source": [
    "def rebuild_act_labels_im(Weights1, Weights2, Weights3, bias1, bias2, bias3, idx_f):\n",
    "    #Rebuild the activations:\n",
    "    act_layer1 = np.zeros((len(idx_f),len(bias1)))\n",
    "    act_layer2 = np.zeros((len(idx_f),len(bias2)))\n",
    "    act_layer3 = np.zeros((len(idx_f),len(bias3)))\n",
    "    \n",
    "    for i in range(len(idx_f)):\n",
    "        act_layer1[i,:] = np.maximum(\n",
    "            0,(np.dot(Weights1.T, mnist.train.images[idx_f[i]]) + bias1))\n",
    "        act_layer2[i,:] = np.maximum(\n",
    "            0,(np.dot(Weights2.T, act_layer1[i, :]) + bias2))\n",
    "        act_layer3[i,:] = softmax(\n",
    "            np.dot(Weights3.T, act_layer2[i, :]) + bias3)\n",
    "    return act_layer1, act_layer2, act_layer3"
   ]
  },
  {
   "cell_type": "markdown",
   "metadata": {},
   "source": [
    "Split the neurons we keep and the one we drop"
   ]
  },
  {
   "cell_type": "code",
   "execution_count": 10,
   "metadata": {},
   "outputs": [],
   "source": [
    "def prune_neurons(idx, layer, parameters):\n",
    "    '''\n",
    "    idx : (list) : list of the chosen index with kdpp\n",
    "    layer (int) : layer considered\n",
    "    parameters (ndarray,ndarray) : weights and bias of the considered layer'''\n",
    "    #Split weights between the ones we keep and the ones we drop\n",
    "    #Prune for the first layer\n",
    "    weights_prev, bias_prev = parameters[layer - 1]\n",
    "    weights_cur, bias_cur = parameters[layer] #weights of the layer\n",
    "\n",
    "    new_weights_prev = weights_prev[:, idx]\n",
    "    drop_idx = list()\n",
    "    for i in np.arange(weights_cur.shape[0]):\n",
    "        if i not in idx:\n",
    "            drop_idx += [i]\n",
    "    new_weights_cur = weights_cur[idx]\n",
    "    new_bias_prev = bias_prev[idx]\n",
    "    drop_weights = weights_cur[drop_idx]\n",
    "\n",
    "    new_parameters = parameters.copy()\n",
    "    new_parameters[layer - 1] = (new_weights_prev, new_bias_prev)\n",
    "    new_parameters[layer] = (new_weights_cur, bias_cur)\n",
    "        \n",
    "    \n",
    "    return new_parameters, drop_idx, drop_weights"
   ]
  },
  {
   "cell_type": "markdown",
   "metadata": {},
   "source": [
    "Reweighting procedure"
   ]
  },
  {
   "cell_type": "code",
   "execution_count": 11,
   "metadata": {},
   "outputs": [],
   "source": [
    "def reweight(layer, activations, new_parameters, idx, drop_idx, drop_weights):\n",
    "    '''\n",
    "    idx : (list) : list of the chosen index with kdpp\n",
    "    activations (list) : activations vectors for each layers\n",
    "    layer (int) : layer considered\n",
    "    parameters (ndarray,ndarray) : weights and bias of the considered layer\n",
    "    idx (list) : chosen index with kdpp\n",
    "    drop_idx (list) : index of the non-chosen neurons'''\n",
    "    \n",
    "    act_idx = activations[0]\n",
    "    act_layer = activations[layer]\n",
    "    act_layer_aft = activations[layer + 1]\n",
    "    weights_cur, bias_cur = new_parameters[layer]\n",
    "    alpha = np.empty((len(act_idx),len(drop_idx) ))\n",
    "    drop_acti = act_layer[drop_idx]\n",
    "    \n",
    "    def proj1(alpha, ind, v1 = drop_acti, v2 = act_idx):\n",
    "        return np.linalg.norm(v1[ind] - np.dot(alpha, v2))\n",
    "    \n",
    "    alpha_results = []\n",
    "    for i in range(len(drop_idx)):\n",
    "        if i%50 == 0:\n",
    "            print(\"step\", i)\n",
    "        alpha_results += [minimize(proj1, np.random.random(len(act_idx)), (i))]\n",
    "    \n",
    "    for i in range(len(drop_idx)):\n",
    "        alpha[:, i] = alpha_results[i]['x']\n",
    "\n",
    "    #Now fuse the dropped weights within the kept ones   \n",
    "    new_weights_cur = weights_cur.copy()\n",
    "    for i in range(weights_cur.shape[0]):\n",
    "        add_weights = np.dot(alpha, drop_weights)\n",
    "        for j in range(weights_cur.shape[1]):\n",
    "            new_weights_cur[i][j] += add_weights[i][j]\n",
    "            \n",
    "    new_parameters = new_parameters.copy()\n",
    "    new_parameters[layer] = (new_weights_cur, bias_cur)\n",
    "    \n",
    "    return new_parameters"
   ]
  },
  {
   "cell_type": "markdown",
   "metadata": {},
   "source": [
    "# 5) Experiments\n",
    "### a) Find the best kernel"
   ]
  },
  {
   "cell_type": "code",
   "execution_count": 12,
   "metadata": {
    "scrolled": true
   },
   "outputs": [
    {
     "name": "stdout",
     "output_type": "stream",
     "text": [
      "WARNING:tensorflow:From /anaconda3/lib/python3.7/site-packages/tensorflow/python/framework/op_def_library.py:263: colocate_with (from tensorflow.python.framework.ops) is deprecated and will be removed in a future version.\n",
      "Instructions for updating:\n",
      "Colocations handled automatically by placer.\n",
      "WARNING:tensorflow:From /anaconda3/lib/python3.7/site-packages/tensorflow/python/ops/math_ops.py:3066: to_int32 (from tensorflow.python.ops.math_ops) is deprecated and will be removed in a future version.\n",
      "Instructions for updating:\n",
      "Use tf.cast instead.\n",
      "Epoch: 1 cost = 1.084\n",
      "Epoch: 2 cost = 0.481\n",
      "Epoch: 3 cost = 0.377\n",
      "Epoch: 4 cost = 0.306\n",
      "Epoch: 5 cost = 0.255\n",
      "Epoch: 6 cost = 0.219\n",
      "Epoch: 7 cost = 0.188\n",
      "Epoch: 8 cost = 0.165\n",
      "Epoch: 9 cost = 0.144\n",
      "Epoch: 10 cost = 0.128\n",
      "Epoch: 11 cost = 0.115\n",
      "Epoch: 12 cost = 0.102\n",
      "Epoch: 13 cost = 0.092\n",
      "Epoch: 14 cost = 0.084\n",
      "Epoch: 15 cost = 0.075\n",
      "Epoch: 16 cost = 0.068\n",
      "Epoch: 17 cost = 0.060\n",
      "Epoch: 18 cost = 0.055\n",
      "Epoch: 19 cost = 0.050\n",
      "Epoch: 20 cost = 0.044\n",
      "Epoch: 21 cost = 0.041\n",
      "Epoch: 22 cost = 0.035\n",
      "Epoch: 23 cost = 0.032\n",
      "Epoch: 24 cost = 0.029\n",
      "Epoch: 25 cost = 0.026\n",
      "Epoch: 26 cost = 0.024\n",
      "Epoch: 27 cost = 0.021\n",
      "Epoch: 28 cost = 0.019\n",
      "Epoch: 29 cost = 0.017\n",
      "Epoch: 30 cost = 0.015\n",
      "0.9802\n"
     ]
    }
   ],
   "source": [
    "parameters = network()"
   ]
  },
  {
   "cell_type": "code",
   "execution_count": 33,
   "metadata": {},
   "outputs": [
    {
     "name": "stderr",
     "output_type": "stream",
     "text": [
      "/Users/jean-jacquessimeoni/Desktop/kdpp.py:103: RuntimeWarning: overflow encountered in double_scalars\n",
      "  e[n,l]=e[n-1,l] + l_eig[n-1]*e[n-1,l-1]\n",
      "/Users/jean-jacquessimeoni/Desktop/kdpp.py:56: RuntimeWarning: invalid value encountered in double_scalars\n",
      "  if u < l_eig[n]*e[n][l-1]/e[n+1][l]:\n"
     ]
    }
   ],
   "source": [
    "Weights1, bias1 = parameters[0]\n",
    "Weights2, bias2 = parameters[1]\n",
    "Weights3, bias3 = parameters[2]\n",
    "\n",
    "k_f = 1100\n",
    "kddpf = kDPP(mnist.train.images[:3300], kernel_se)\n",
    "act_f, idx_f = kddpf.sample(k_f)"
   ]
  },
  {
   "cell_type": "code",
   "execution_count": 123,
   "metadata": {},
   "outputs": [],
   "source": [
    "layer = 1\n",
    "k_1 = 250\n",
    "act_layer1, act_layer2, act_layer3 = rebuild_act_labels_im(Weights1,  Weights2, Weights3, bias1, bias2, bias3, idx_f)\n",
    "kdpp1 = kDPP(act_layer1.T, kernel_se)\n",
    "act_idx1, idx1 = kdpp1.sample(k_1)\n",
    "new_parameters1, drop_idx, drop_weights = prune_neurons(idx1, layer, parameters)"
   ]
  },
  {
   "cell_type": "code",
   "execution_count": 127,
   "metadata": {
    "scrolled": true
   },
   "outputs": [
    {
     "name": "stdout",
     "output_type": "stream",
     "text": [
      "(250, 1100)\n",
      "(250, 1100)\n",
      "(250, 250)\n",
      "step 0\n",
      "step 50\n",
      "step 100\n",
      "step 150\n",
      "step 200\n"
     ]
    }
   ],
   "source": [
    "activations = np.array([act_idx1, act_layer1.T, act_layer2.T, act_layer3.T])\n",
    "new_parameters1 = reweight(layer, activations, new_parameters1, idx1, drop_idx, drop_weights)"
   ]
  },
  {
   "cell_type": "code",
   "execution_count": 142,
   "metadata": {},
   "outputs": [],
   "source": [
    "layer = 2\n",
    "k_2 = 250\n",
    "kdpp2 = kDPP(act_layer2.T, kernel_se)\n",
    "act_idx2, idx2 = kdpp2.sample(k_2)\n",
    "new_parameters2, drop_idx, drop_weights = prune_neurons(idx2, layer, new_parameters1)"
   ]
  },
  {
   "cell_type": "code",
   "execution_count": 143,
   "metadata": {},
   "outputs": [
    {
     "name": "stdout",
     "output_type": "stream",
     "text": [
      "step 0\n",
      "step 50\n",
      "step 100\n",
      "step 150\n",
      "step 200\n"
     ]
    }
   ],
   "source": [
    "activations = np.array([act_idx2, act_layer1.T, act_layer2.T, act_layer3.T])\n",
    "new_parameters2 = reweight(layer, activations, new_parameters2, idx2, drop_idx, drop_weights)"
   ]
  },
  {
   "cell_type": "code",
   "execution_count": 14,
   "metadata": {},
   "outputs": [],
   "source": [
    "def new_nets(new_parameters, learning_rate = 0.05, epochs = 1, batch_size = 100):\n",
    "    new_weights1, new_bias1 = new_parameters[0]\n",
    "    new_weights2, new_bias2 = new_parameters[1]\n",
    "    new_weights3, new_bias3 = new_parameters[2]\n",
    "    # declare the training data placeholders\n",
    "    # input x - for 28 x 28 pixels = 784\n",
    "    x = tf.placeholder(tf.float32, [None, 784])\n",
    "    # now declare the output data placeholder - 10 digits\n",
    "    y = tf.placeholder(tf.float32, [None, 10])\n",
    "\n",
    "    # now declare the weights connecting the input to the hidden layer\n",
    "    init_W1 = tf.constant(new_weights1, dtype=tf.float32)\n",
    "    W1 = tf.Variable(init_W1, name='W1', trainable = False)\n",
    "    init_b1 = tf.constant(new_bias1, dtype=tf.float32)\n",
    "    b1 = tf.Variable(init_b1, name='b1', trainable = False)\n",
    "    # the weights connecting the hidden layer to the other hidden layer\n",
    "    init_W2 = tf.constant(new_weights2, dtype=tf.float32)\n",
    "    W2 = tf.Variable(init_W2, name='W2', trainable = False)\n",
    "    init_b2 = tf.constant(new_bias2, dtype=tf.float32)\n",
    "    b2 = tf.Variable(init_b2, name='b2', trainable = False)\n",
    "    # and the weights connecting the hidden layer to the output layer\n",
    "    init_W3 = tf.constant(new_weights3, dtype=tf.float32)\n",
    "    W3 = tf.Variable(init_W3, name='W3', trainable = False)\n",
    "    init_b3 = tf.constant(new_bias3, dtype=tf.float32)\n",
    "    b3 = tf.Variable(init_b3, name='b3')\n",
    "\n",
    "    # calculate the output of the hidden layers\n",
    "    hidden_out_1 = tf.add(tf.matmul(x, W1), b1)\n",
    "    hidden_out_1 = tf.nn.relu(hidden_out_1)\n",
    "    hidden_out_2 = tf.nn.relu(tf.add(tf.matmul(hidden_out_1, W2), b2))\n",
    "    # now calculate the hidden layer output - in this case, let's use a softmax activated\n",
    "    # output layer\n",
    "    y_ = tf.nn.softmax(tf.add(tf.matmul(hidden_out_2, W3), b3))\n",
    "\n",
    "\n",
    "    #Compute cross entropy\n",
    "    y_clipped = tf.clip_by_value(y_, 1e-10, 0.9999999) # Being sure we don't have ln(0)\n",
    "    cross_entropy = -tf.reduce_mean(tf.reduce_sum(y * tf.log(y_clipped)\n",
    "                             + (1 - y) * tf.log(1 - y_clipped), axis=1))\n",
    "\n",
    "    # add an optimiser\n",
    "    optimiser = tf.train.GradientDescentOptimizer(learning_rate=learning_rate).minimize(cross_entropy)\n",
    "\n",
    "    # finally setup the initialisation operator\n",
    "    init_op = tf.global_variables_initializer()\n",
    "\n",
    "    # define an accuracy assessment operation\n",
    "    correct_prediction = tf.equal(tf.argmax(y, 1), tf.argmax(y_, 1))\n",
    "    accuracy = tf.reduce_mean(tf.cast(correct_prediction, tf.float32))\n",
    "    with tf.Session() as sess:\n",
    "        sess.run(init_op)\n",
    "        acc = sess.run(accuracy, feed_dict={x: mnist.test.images, y: mnist.test.labels})\n",
    "    return acc\n",
    "\n",
    "#new_nets(new_parameters2)"
   ]
  },
  {
   "cell_type": "markdown",
   "metadata": {},
   "source": [
    "#### Put everything in one function:\n"
   ]
  },
  {
   "cell_type": "code",
   "execution_count": 1,
   "metadata": {},
   "outputs": [
    {
     "ename": "NameError",
     "evalue": "name 'parameters' is not defined",
     "output_type": "error",
     "traceback": [
      "\u001b[0;31m---------------------------------------------------------------------------\u001b[0m",
      "\u001b[0;31mNameError\u001b[0m                                 Traceback (most recent call last)",
      "\u001b[0;32m<ipython-input-1-dbf9fd4a3949>\u001b[0m in \u001b[0;36m<module>\u001b[0;34m\u001b[0m\n\u001b[0;32m----> 1\u001b[0;31m \u001b[0mWeights1\u001b[0m\u001b[0;34m,\u001b[0m \u001b[0mbias1\u001b[0m \u001b[0;34m=\u001b[0m \u001b[0mparameters\u001b[0m\u001b[0;34m[\u001b[0m\u001b[0;36m0\u001b[0m\u001b[0;34m]\u001b[0m\u001b[0;34m\u001b[0m\u001b[0;34m\u001b[0m\u001b[0m\n\u001b[0m\u001b[1;32m      2\u001b[0m \u001b[0mWeights2\u001b[0m\u001b[0;34m,\u001b[0m \u001b[0mbias2\u001b[0m \u001b[0;34m=\u001b[0m \u001b[0mparameters\u001b[0m\u001b[0;34m[\u001b[0m\u001b[0;36m1\u001b[0m\u001b[0;34m]\u001b[0m\u001b[0;34m\u001b[0m\u001b[0;34m\u001b[0m\u001b[0m\n\u001b[1;32m      3\u001b[0m \u001b[0mWeights3\u001b[0m\u001b[0;34m,\u001b[0m \u001b[0mbias3\u001b[0m \u001b[0;34m=\u001b[0m \u001b[0mparameters\u001b[0m\u001b[0;34m[\u001b[0m\u001b[0;36m2\u001b[0m\u001b[0;34m]\u001b[0m\u001b[0;34m\u001b[0m\u001b[0;34m\u001b[0m\u001b[0m\n\u001b[1;32m      4\u001b[0m \u001b[0;34m\u001b[0m\u001b[0m\n\u001b[1;32m      5\u001b[0m \u001b[0;32mdef\u001b[0m \u001b[0msampling_fea\u001b[0m\u001b[0;34m(\u001b[0m\u001b[0mk_f\u001b[0m\u001b[0;34m,\u001b[0m \u001b[0mkernel\u001b[0m\u001b[0;34m)\u001b[0m\u001b[0;34m:\u001b[0m\u001b[0;34m\u001b[0m\u001b[0;34m\u001b[0m\u001b[0m\n",
      "\u001b[0;31mNameError\u001b[0m: name 'parameters' is not defined"
     ]
    }
   ],
   "source": [
    "Weights1, bias1 = parameters[0]\n",
    "Weights2, bias2 = parameters[1]\n",
    "Weights3, bias3 = parameters[2]\n",
    "\n",
    "def sampling_fea(k_f, kernel):\n",
    "    \n",
    "    print(\"begin kdpp over features\")\n",
    "    kddpf = kDPP(mnist.train.images[:3300], kernel)\n",
    "    act_f, idx_f = kddpf.sample(k_f)\n",
    "    print(\"end kdpp over features\")\n",
    "    \n",
    "    return idx_f\n",
    "\n",
    "def results(idx_f, k_1, k_2, kernel, Weights1 = Weights1,  Weights2 = Weights2, Weights3 = Weights3, bias1 = bias1, bias2 = bias2, bias3 = bias3):\n",
    "    \n",
    "    print(\"begin pruning for layer 1\")\n",
    "    layer = 1\n",
    "    act_layer1, act_layer2, act_layer3 = rebuild_act_labels_im(Weights1,  Weights2, Weights3, bias1, bias2, bias3, idx_f)\n",
    "    kdpp1 = kDPP(act_layer1.T, kernel)\n",
    "    act_idx1, idx1 = kdpp1.sample(k_1)\n",
    "    new_parameters1, drop_idx, drop_weights = prune_neurons(idx1, layer, parameters)\n",
    "    print(\"end pruning for layer 1\")\n",
    "    \n",
    "    print(\"begin reweighting for layer 1\")\n",
    "    activations = np.array([act_idx1, act_layer1.T, act_layer2.T, act_layer3.T])\n",
    "    new_parameters1 = reweight(layer, activations, new_parameters1, idx1, drop_idx, drop_weights)\n",
    "    print(\"end reweighting for layer 1\")\n",
    "    \n",
    "#     print(\"begin pruning for layer 2\")\n",
    "#     layer = 2\n",
    "#     kdpp2 = kDPP(act_layer2.T, kernel)\n",
    "#     act_idx2, idx2 = kdpp2.sample(k_2)\n",
    "#     new_parameters2, drop_idx, drop_weights = prune_neurons(idx2, layer, new_parameters1)\n",
    "#     print(\"end pruning for layer 2\")\n",
    "    \n",
    "#     print(\"begin reweighting for layer 2\")\n",
    "#     activations = np.array([act_idx2, act_layer1.T, act_layer2.T, act_layer3.T])\n",
    "#     new_parameters2 = reweight(layer, activations, new_parameters2, idx2, drop_idx, drop_weights)\n",
    "#     print(\"end reweighting for layer 2\")\n",
    "    \n",
    "    return new_nets(new_parameters1) #new_parameters2)"
   ]
  },
  {
   "cell_type": "code",
   "execution_count": 82,
   "metadata": {},
   "outputs": [
    {
     "name": "stdout",
     "output_type": "stream",
     "text": [
      "begin kdpp over features\n",
      "end kdpp over features\n"
     ]
    }
   ],
   "source": [
    "idx_f = sampling_fea(1100, kernel_se)"
   ]
  },
  {
   "cell_type": "code",
   "execution_count": 23,
   "metadata": {},
   "outputs": [
    {
     "name": "stdout",
     "output_type": "stream",
     "text": [
      "k 100 gain 0.1 len 0.1\n",
      "begin pruning for layer 1\n",
      "end pruning for layer 1\n",
      "begin reweighting for layer 1\n",
      "step 0\n",
      "step 50\n",
      "step 100\n",
      "step 150\n",
      "step 200\n",
      "step 250\n",
      "step 300\n",
      "step 350\n",
      "end reweighting for layer 1\n",
      "begin pruning for layer 2\n",
      "end pruning for layer 2\n",
      "begin reweighting for layer 2\n",
      "step 0\n",
      "step 50\n",
      "step 100\n",
      "step 150\n",
      "step 200\n",
      "step 250\n",
      "step 300\n",
      "step 350\n",
      "end reweighting for layer 2\n",
      "k 100 gain 0.1 len 1\n",
      "begin pruning for layer 1\n",
      "end pruning for layer 1\n",
      "begin reweighting for layer 1\n",
      "step 0\n",
      "step 50\n",
      "step 100\n",
      "step 150\n",
      "step 200\n",
      "step 250\n",
      "step 300\n",
      "step 350\n",
      "end reweighting for layer 1\n",
      "begin pruning for layer 2\n",
      "end pruning for layer 2\n",
      "begin reweighting for layer 2\n",
      "step 0\n",
      "step 50\n",
      "step 100\n",
      "step 150\n",
      "step 200\n",
      "step 250\n",
      "step 300\n",
      "step 350\n",
      "end reweighting for layer 2\n",
      "k 100 gain 0.1 len 10\n",
      "begin pruning for layer 1\n",
      "end pruning for layer 1\n",
      "begin reweighting for layer 1\n",
      "step 0\n",
      "step 50\n",
      "step 100\n",
      "step 150\n",
      "step 200\n",
      "step 250\n",
      "step 300\n",
      "step 350\n",
      "end reweighting for layer 1\n",
      "begin pruning for layer 2\n",
      "end pruning for layer 2\n",
      "begin reweighting for layer 2\n",
      "step 0\n",
      "step 50\n",
      "step 100\n",
      "step 150\n",
      "step 200\n",
      "step 250\n",
      "step 300\n",
      "step 350\n",
      "end reweighting for layer 2\n",
      "k 100 gain 0.1 len 100\n",
      "begin pruning for layer 1\n",
      "end pruning for layer 1\n",
      "begin reweighting for layer 1\n",
      "step 0\n",
      "step 50\n",
      "step 100\n",
      "step 150\n",
      "step 200\n",
      "step 250\n",
      "step 300\n",
      "step 350\n",
      "end reweighting for layer 1\n",
      "begin pruning for layer 2\n",
      "end pruning for layer 2\n",
      "begin reweighting for layer 2\n",
      "step 0\n",
      "step 50\n",
      "step 100\n",
      "step 150\n",
      "step 200\n",
      "step 250\n",
      "step 300\n",
      "step 350\n",
      "end reweighting for layer 2\n",
      "k 100 gain 1 len 0.1\n",
      "begin pruning for layer 1\n",
      "end pruning for layer 1\n",
      "begin reweighting for layer 1\n",
      "step 0\n",
      "step 50\n",
      "step 100\n",
      "step 150\n",
      "step 200\n",
      "step 250\n",
      "step 300\n",
      "step 350\n",
      "end reweighting for layer 1\n",
      "begin pruning for layer 2\n",
      "end pruning for layer 2\n",
      "begin reweighting for layer 2\n",
      "step 0\n",
      "step 50\n",
      "step 100\n",
      "step 150\n",
      "step 200\n",
      "step 250\n",
      "step 300\n",
      "step 350\n",
      "end reweighting for layer 2\n",
      "k 100 gain 1 len 1\n",
      "begin pruning for layer 1\n",
      "end pruning for layer 1\n",
      "begin reweighting for layer 1\n",
      "step 0\n",
      "step 50\n",
      "step 100\n",
      "step 150\n",
      "step 200\n",
      "step 250\n",
      "step 300\n",
      "step 350\n",
      "end reweighting for layer 1\n",
      "begin pruning for layer 2\n",
      "end pruning for layer 2\n",
      "begin reweighting for layer 2\n",
      "step 0\n",
      "step 50\n",
      "step 100\n",
      "step 150\n",
      "step 200\n",
      "step 250\n",
      "step 300\n",
      "step 350\n",
      "end reweighting for layer 2\n",
      "k 100 gain 1 len 10\n",
      "begin pruning for layer 1\n",
      "end pruning for layer 1\n",
      "begin reweighting for layer 1\n",
      "step 0\n",
      "step 50\n",
      "step 100\n",
      "step 150\n",
      "step 200\n",
      "step 250\n",
      "step 300\n",
      "step 350\n",
      "end reweighting for layer 1\n",
      "begin pruning for layer 2\n",
      "end pruning for layer 2\n",
      "begin reweighting for layer 2\n",
      "step 0\n",
      "step 50\n",
      "step 100\n",
      "step 150\n",
      "step 200\n",
      "step 250\n",
      "step 300\n",
      "step 350\n",
      "end reweighting for layer 2\n",
      "k 100 gain 1 len 100\n",
      "begin pruning for layer 1\n",
      "end pruning for layer 1\n",
      "begin reweighting for layer 1\n",
      "step 0\n",
      "step 50\n",
      "step 100\n",
      "step 150\n",
      "step 200\n",
      "step 250\n",
      "step 300\n",
      "step 350\n",
      "end reweighting for layer 1\n",
      "begin pruning for layer 2\n",
      "end pruning for layer 2\n",
      "begin reweighting for layer 2\n",
      "step 0\n",
      "step 50\n",
      "step 100\n",
      "step 150\n",
      "step 200\n",
      "step 250\n",
      "step 300\n",
      "step 350\n",
      "end reweighting for layer 2\n",
      "k 100 gain 10 len 0.1\n",
      "begin pruning for layer 1\n",
      "end pruning for layer 1\n",
      "begin reweighting for layer 1\n",
      "step 0\n",
      "step 50\n",
      "step 100\n",
      "step 150\n",
      "step 200\n",
      "step 250\n",
      "step 300\n",
      "step 350\n",
      "end reweighting for layer 1\n",
      "begin pruning for layer 2\n",
      "end pruning for layer 2\n",
      "begin reweighting for layer 2\n",
      "step 0\n",
      "step 50\n",
      "step 100\n",
      "step 150\n",
      "step 200\n",
      "step 250\n",
      "step 300\n",
      "step 350\n",
      "end reweighting for layer 2\n",
      "k 100 gain 10 len 1\n",
      "begin pruning for layer 1\n",
      "end pruning for layer 1\n",
      "begin reweighting for layer 1\n",
      "step 0\n",
      "step 50\n",
      "step 100\n",
      "step 150\n",
      "step 200\n",
      "step 250\n",
      "step 300\n",
      "step 350\n",
      "end reweighting for layer 1\n",
      "begin pruning for layer 2\n",
      "end pruning for layer 2\n",
      "begin reweighting for layer 2\n",
      "step 0\n",
      "step 50\n",
      "step 100\n",
      "step 150\n",
      "step 200\n",
      "step 250\n",
      "step 300\n",
      "step 350\n",
      "end reweighting for layer 2\n",
      "k 100 gain 10 len 10\n",
      "begin pruning for layer 1\n",
      "end pruning for layer 1\n",
      "begin reweighting for layer 1\n",
      "step 0\n",
      "step 50\n",
      "step 100\n",
      "step 150\n",
      "step 200\n",
      "step 250\n",
      "step 300\n",
      "step 350\n",
      "end reweighting for layer 1\n",
      "begin pruning for layer 2\n",
      "end pruning for layer 2\n",
      "begin reweighting for layer 2\n",
      "step 0\n",
      "step 50\n",
      "step 100\n",
      "step 150\n",
      "step 200\n",
      "step 250\n",
      "step 300\n",
      "step 350\n",
      "end reweighting for layer 2\n",
      "k 100 gain 10 len 100\n",
      "begin pruning for layer 1\n",
      "end pruning for layer 1\n",
      "begin reweighting for layer 1\n",
      "step 0\n",
      "step 50\n",
      "step 100\n",
      "step 150\n",
      "step 200\n",
      "step 250\n",
      "step 300\n",
      "step 350\n",
      "end reweighting for layer 1\n",
      "begin pruning for layer 2\n",
      "end pruning for layer 2\n",
      "begin reweighting for layer 2\n",
      "step 0\n",
      "step 50\n",
      "step 100\n",
      "step 150\n",
      "step 200\n",
      "step 250\n",
      "step 300\n",
      "step 350\n",
      "end reweighting for layer 2\n",
      "k 100 gain 100 len 0.1\n",
      "begin pruning for layer 1\n"
     ]
    },
    {
     "name": "stderr",
     "output_type": "stream",
     "text": [
      "/Users/jean-jacquessimeoni/Desktop/kdpp.py:103: RuntimeWarning: overflow encountered in double_scalars\n",
      "  e[n,l]=e[n-1,l] + l_eig[n-1]*e[n-1,l-1]\n",
      "/Users/jean-jacquessimeoni/Desktop/kdpp.py:56: RuntimeWarning: invalid value encountered in double_scalars\n",
      "  if u < l_eig[n]*e[n][l-1]/e[n+1][l]:\n",
      "/Users/jean-jacquessimeoni/Desktop/kdpp.py:56: RuntimeWarning: overflow encountered in double_scalars\n",
      "  if u < l_eig[n]*e[n][l-1]/e[n+1][l]:\n"
     ]
    },
    {
     "name": "stdout",
     "output_type": "stream",
     "text": [
      "end pruning for layer 1\n",
      "begin reweighting for layer 1\n",
      "step 0\n",
      "step 50\n",
      "step 100\n",
      "step 150\n",
      "step 200\n",
      "step 250\n",
      "step 300\n",
      "step 350\n",
      "end reweighting for layer 1\n",
      "begin pruning for layer 2\n"
     ]
    },
    {
     "name": "stderr",
     "output_type": "stream",
     "text": [
      "/Users/jean-jacquessimeoni/Desktop/kdpp.py:103: RuntimeWarning: overflow encountered in double_scalars\n",
      "  e[n,l]=e[n-1,l] + l_eig[n-1]*e[n-1,l-1]\n",
      "/Users/jean-jacquessimeoni/Desktop/kdpp.py:56: RuntimeWarning: invalid value encountered in double_scalars\n",
      "  if u < l_eig[n]*e[n][l-1]/e[n+1][l]:\n",
      "/Users/jean-jacquessimeoni/Desktop/kdpp.py:56: RuntimeWarning: overflow encountered in double_scalars\n",
      "  if u < l_eig[n]*e[n][l-1]/e[n+1][l]:\n"
     ]
    },
    {
     "name": "stdout",
     "output_type": "stream",
     "text": [
      "end pruning for layer 2\n",
      "begin reweighting for layer 2\n",
      "step 0\n",
      "step 50\n",
      "step 100\n",
      "step 150\n",
      "step 200\n",
      "step 250\n",
      "step 300\n",
      "step 350\n",
      "end reweighting for layer 2\n",
      "k 100 gain 100 len 1\n",
      "begin pruning for layer 1\n"
     ]
    },
    {
     "name": "stderr",
     "output_type": "stream",
     "text": [
      "/Users/jean-jacquessimeoni/Desktop/kdpp.py:103: RuntimeWarning: overflow encountered in double_scalars\n",
      "  e[n,l]=e[n-1,l] + l_eig[n-1]*e[n-1,l-1]\n",
      "/Users/jean-jacquessimeoni/Desktop/kdpp.py:103: RuntimeWarning: invalid value encountered in double_scalars\n",
      "  e[n,l]=e[n-1,l] + l_eig[n-1]*e[n-1,l-1]\n",
      "/Users/jean-jacquessimeoni/Desktop/kdpp.py:56: RuntimeWarning: invalid value encountered in double_scalars\n",
      "  if u < l_eig[n]*e[n][l-1]/e[n+1][l]:\n"
     ]
    },
    {
     "name": "stdout",
     "output_type": "stream",
     "text": [
      "end pruning for layer 1\n",
      "begin reweighting for layer 1\n",
      "step 0\n",
      "step 50\n",
      "step 100\n",
      "step 150\n",
      "step 200\n",
      "step 250\n",
      "step 300\n",
      "step 350\n",
      "end reweighting for layer 1\n",
      "begin pruning for layer 2\n"
     ]
    },
    {
     "name": "stderr",
     "output_type": "stream",
     "text": [
      "/Users/jean-jacquessimeoni/Desktop/kdpp.py:103: RuntimeWarning: overflow encountered in double_scalars\n",
      "  e[n,l]=e[n-1,l] + l_eig[n-1]*e[n-1,l-1]\n",
      "/Users/jean-jacquessimeoni/Desktop/kdpp.py:103: RuntimeWarning: invalid value encountered in double_scalars\n",
      "  e[n,l]=e[n-1,l] + l_eig[n-1]*e[n-1,l-1]\n",
      "/Users/jean-jacquessimeoni/Desktop/kdpp.py:56: RuntimeWarning: invalid value encountered in double_scalars\n",
      "  if u < l_eig[n]*e[n][l-1]/e[n+1][l]:\n"
     ]
    },
    {
     "name": "stdout",
     "output_type": "stream",
     "text": [
      "end pruning for layer 2\n",
      "begin reweighting for layer 2\n",
      "step 0\n",
      "step 50\n",
      "step 100\n",
      "step 150\n",
      "step 200\n",
      "step 250\n",
      "step 300\n",
      "step 350\n",
      "end reweighting for layer 2\n",
      "k 100 gain 100 len 10\n",
      "begin pruning for layer 1\n"
     ]
    },
    {
     "name": "stderr",
     "output_type": "stream",
     "text": [
      "/Users/jean-jacquessimeoni/Desktop/kdpp.py:103: RuntimeWarning: overflow encountered in double_scalars\n",
      "  e[n,l]=e[n-1,l] + l_eig[n-1]*e[n-1,l-1]\n",
      "/Users/jean-jacquessimeoni/Desktop/kdpp.py:103: RuntimeWarning: invalid value encountered in double_scalars\n",
      "  e[n,l]=e[n-1,l] + l_eig[n-1]*e[n-1,l-1]\n",
      "/Users/jean-jacquessimeoni/Desktop/kdpp.py:56: RuntimeWarning: invalid value encountered in double_scalars\n",
      "  if u < l_eig[n]*e[n][l-1]/e[n+1][l]:\n"
     ]
    },
    {
     "name": "stdout",
     "output_type": "stream",
     "text": [
      "end pruning for layer 1\n",
      "begin reweighting for layer 1\n",
      "step 0\n",
      "step 50\n",
      "step 100\n",
      "step 150\n",
      "step 200\n",
      "step 250\n",
      "step 300\n",
      "step 350\n",
      "end reweighting for layer 1\n",
      "begin pruning for layer 2\n"
     ]
    },
    {
     "name": "stderr",
     "output_type": "stream",
     "text": [
      "/Users/jean-jacquessimeoni/Desktop/kdpp.py:103: RuntimeWarning: overflow encountered in double_scalars\n",
      "  e[n,l]=e[n-1,l] + l_eig[n-1]*e[n-1,l-1]\n",
      "/Users/jean-jacquessimeoni/Desktop/kdpp.py:103: RuntimeWarning: invalid value encountered in double_scalars\n",
      "  e[n,l]=e[n-1,l] + l_eig[n-1]*e[n-1,l-1]\n",
      "/Users/jean-jacquessimeoni/Desktop/kdpp.py:56: RuntimeWarning: invalid value encountered in double_scalars\n",
      "  if u < l_eig[n]*e[n][l-1]/e[n+1][l]:\n"
     ]
    },
    {
     "name": "stdout",
     "output_type": "stream",
     "text": [
      "end pruning for layer 2\n",
      "begin reweighting for layer 2\n",
      "step 0\n",
      "step 50\n",
      "step 100\n",
      "step 150\n",
      "step 200\n",
      "step 250\n",
      "step 300\n",
      "step 350\n",
      "end reweighting for layer 2\n",
      "k 100 gain 100 len 100\n",
      "begin pruning for layer 1\n"
     ]
    },
    {
     "name": "stderr",
     "output_type": "stream",
     "text": [
      "/Users/jean-jacquessimeoni/Desktop/kdpp.py:103: RuntimeWarning: overflow encountered in double_scalars\n",
      "  e[n,l]=e[n-1,l] + l_eig[n-1]*e[n-1,l-1]\n",
      "/Users/jean-jacquessimeoni/Desktop/kdpp.py:103: RuntimeWarning: invalid value encountered in double_scalars\n",
      "  e[n,l]=e[n-1,l] + l_eig[n-1]*e[n-1,l-1]\n",
      "/Users/jean-jacquessimeoni/Desktop/kdpp.py:56: RuntimeWarning: overflow encountered in double_scalars\n",
      "  if u < l_eig[n]*e[n][l-1]/e[n+1][l]:\n",
      "/Users/jean-jacquessimeoni/Desktop/kdpp.py:56: RuntimeWarning: invalid value encountered in double_scalars\n",
      "  if u < l_eig[n]*e[n][l-1]/e[n+1][l]:\n"
     ]
    },
    {
     "name": "stdout",
     "output_type": "stream",
     "text": [
      "end pruning for layer 1\n",
      "begin reweighting for layer 1\n",
      "step 0\n",
      "step 50\n",
      "step 100\n",
      "step 150\n",
      "step 200\n",
      "step 250\n",
      "step 300\n",
      "step 350\n",
      "end reweighting for layer 1\n",
      "begin pruning for layer 2\n"
     ]
    },
    {
     "name": "stderr",
     "output_type": "stream",
     "text": [
      "/Users/jean-jacquessimeoni/Desktop/kdpp.py:103: RuntimeWarning: overflow encountered in double_scalars\n",
      "  e[n,l]=e[n-1,l] + l_eig[n-1]*e[n-1,l-1]\n",
      "/Users/jean-jacquessimeoni/Desktop/kdpp.py:103: RuntimeWarning: invalid value encountered in double_scalars\n",
      "  e[n,l]=e[n-1,l] + l_eig[n-1]*e[n-1,l-1]\n",
      "/Users/jean-jacquessimeoni/Desktop/kdpp.py:56: RuntimeWarning: invalid value encountered in double_scalars\n",
      "  if u < l_eig[n]*e[n][l-1]/e[n+1][l]:\n"
     ]
    },
    {
     "name": "stdout",
     "output_type": "stream",
     "text": [
      "end pruning for layer 2\n",
      "begin reweighting for layer 2\n",
      "step 0\n",
      "step 50\n",
      "step 100\n",
      "step 150\n",
      "step 200\n",
      "step 250\n",
      "step 300\n",
      "step 350\n",
      "end reweighting for layer 2\n",
      "k 150 gain 0.1 len 0.1\n",
      "begin pruning for layer 1\n",
      "end pruning for layer 1\n",
      "begin reweighting for layer 1\n",
      "step 0\n",
      "step 50\n",
      "step 100\n",
      "step 150\n",
      "step 200\n",
      "step 250\n",
      "step 300\n",
      "end reweighting for layer 1\n",
      "begin pruning for layer 2\n",
      "end pruning for layer 2\n",
      "begin reweighting for layer 2\n",
      "step 0\n",
      "step 50\n",
      "step 100\n",
      "step 150\n",
      "step 200\n",
      "step 250\n",
      "step 300\n",
      "end reweighting for layer 2\n",
      "k 150 gain 0.1 len 1\n",
      "begin pruning for layer 1\n",
      "end pruning for layer 1\n",
      "begin reweighting for layer 1\n",
      "step 0\n",
      "step 50\n",
      "step 100\n",
      "step 150\n",
      "step 200\n",
      "step 250\n",
      "step 300\n",
      "end reweighting for layer 1\n",
      "begin pruning for layer 2\n",
      "end pruning for layer 2\n",
      "begin reweighting for layer 2\n",
      "step 0\n",
      "step 50\n",
      "step 100\n",
      "step 150\n",
      "step 200\n",
      "step 250\n",
      "step 300\n",
      "end reweighting for layer 2\n",
      "k 150 gain 0.1 len 10\n",
      "begin pruning for layer 1\n",
      "end pruning for layer 1\n",
      "begin reweighting for layer 1\n",
      "step 0\n",
      "step 50\n",
      "step 100\n",
      "step 150\n",
      "step 200\n",
      "step 250\n",
      "step 300\n",
      "end reweighting for layer 1\n",
      "begin pruning for layer 2\n",
      "end pruning for layer 2\n",
      "begin reweighting for layer 2\n",
      "step 0\n",
      "step 50\n",
      "step 100\n",
      "step 150\n",
      "step 200\n",
      "step 250\n",
      "step 300\n",
      "end reweighting for layer 2\n",
      "k 150 gain 0.1 len 100\n",
      "begin pruning for layer 1\n",
      "end pruning for layer 1\n",
      "begin reweighting for layer 1\n",
      "step 0\n",
      "step 50\n",
      "step 100\n",
      "step 150\n",
      "step 200\n",
      "step 250\n",
      "step 300\n",
      "end reweighting for layer 1\n",
      "begin pruning for layer 2\n",
      "end pruning for layer 2\n",
      "begin reweighting for layer 2\n",
      "step 0\n",
      "step 50\n",
      "step 100\n",
      "step 150\n",
      "step 200\n",
      "step 250\n",
      "step 300\n",
      "end reweighting for layer 2\n",
      "k 150 gain 1 len 0.1\n",
      "begin pruning for layer 1\n",
      "end pruning for layer 1\n",
      "begin reweighting for layer 1\n",
      "step 0\n",
      "step 50\n",
      "step 100\n",
      "step 150\n",
      "step 200\n",
      "step 250\n",
      "step 300\n",
      "end reweighting for layer 1\n",
      "begin pruning for layer 2\n",
      "end pruning for layer 2\n",
      "begin reweighting for layer 2\n",
      "step 0\n",
      "step 50\n",
      "step 100\n",
      "step 150\n",
      "step 200\n",
      "step 250\n",
      "step 300\n",
      "end reweighting for layer 2\n",
      "k 150 gain 1 len 1\n",
      "begin pruning for layer 1\n",
      "end pruning for layer 1\n",
      "begin reweighting for layer 1\n",
      "step 0\n",
      "step 50\n",
      "step 100\n",
      "step 150\n",
      "step 200\n",
      "step 250\n",
      "step 300\n",
      "end reweighting for layer 1\n",
      "begin pruning for layer 2\n",
      "end pruning for layer 2\n",
      "begin reweighting for layer 2\n",
      "step 0\n",
      "step 50\n",
      "step 100\n",
      "step 150\n",
      "step 200\n",
      "step 250\n",
      "step 300\n",
      "end reweighting for layer 2\n",
      "k 150 gain 1 len 10\n",
      "begin pruning for layer 1\n",
      "end pruning for layer 1\n",
      "begin reweighting for layer 1\n",
      "step 0\n",
      "step 50\n",
      "step 100\n",
      "step 150\n",
      "step 200\n",
      "step 250\n",
      "step 300\n",
      "end reweighting for layer 1\n",
      "begin pruning for layer 2\n",
      "end pruning for layer 2\n",
      "begin reweighting for layer 2\n",
      "step 0\n",
      "step 50\n",
      "step 100\n",
      "step 150\n",
      "step 200\n",
      "step 250\n",
      "step 300\n",
      "end reweighting for layer 2\n",
      "k 150 gain 1 len 100\n",
      "begin pruning for layer 1\n",
      "end pruning for layer 1\n",
      "begin reweighting for layer 1\n",
      "step 0\n",
      "step 50\n",
      "step 100\n",
      "step 150\n",
      "step 200\n",
      "step 250\n",
      "step 300\n",
      "end reweighting for layer 1\n",
      "begin pruning for layer 2\n",
      "end pruning for layer 2\n",
      "begin reweighting for layer 2\n",
      "step 0\n",
      "step 50\n",
      "step 100\n",
      "step 150\n",
      "step 200\n",
      "step 250\n",
      "step 300\n",
      "end reweighting for layer 2\n",
      "k 150 gain 10 len 0.1\n",
      "begin pruning for layer 1\n"
     ]
    },
    {
     "name": "stderr",
     "output_type": "stream",
     "text": [
      "/Users/jean-jacquessimeoni/Desktop/kdpp.py:103: RuntimeWarning: overflow encountered in double_scalars\n",
      "  e[n,l]=e[n-1,l] + l_eig[n-1]*e[n-1,l-1]\n",
      "/Users/jean-jacquessimeoni/Desktop/kdpp.py:56: RuntimeWarning: invalid value encountered in double_scalars\n",
      "  if u < l_eig[n]*e[n][l-1]/e[n+1][l]:\n",
      "/Users/jean-jacquessimeoni/Desktop/kdpp.py:56: RuntimeWarning: overflow encountered in double_scalars\n",
      "  if u < l_eig[n]*e[n][l-1]/e[n+1][l]:\n"
     ]
    },
    {
     "name": "stdout",
     "output_type": "stream",
     "text": [
      "end pruning for layer 1\n",
      "begin reweighting for layer 1\n",
      "step 0\n",
      "step 50\n",
      "step 100\n",
      "step 150\n",
      "step 200\n",
      "step 250\n",
      "step 300\n",
      "end reweighting for layer 1\n",
      "begin pruning for layer 2\n"
     ]
    },
    {
     "name": "stderr",
     "output_type": "stream",
     "text": [
      "/Users/jean-jacquessimeoni/Desktop/kdpp.py:103: RuntimeWarning: overflow encountered in double_scalars\n",
      "  e[n,l]=e[n-1,l] + l_eig[n-1]*e[n-1,l-1]\n",
      "/Users/jean-jacquessimeoni/Desktop/kdpp.py:56: RuntimeWarning: invalid value encountered in double_scalars\n",
      "  if u < l_eig[n]*e[n][l-1]/e[n+1][l]:\n",
      "/Users/jean-jacquessimeoni/Desktop/kdpp.py:56: RuntimeWarning: overflow encountered in double_scalars\n",
      "  if u < l_eig[n]*e[n][l-1]/e[n+1][l]:\n"
     ]
    },
    {
     "name": "stdout",
     "output_type": "stream",
     "text": [
      "end pruning for layer 2\n",
      "begin reweighting for layer 2\n",
      "step 0\n",
      "step 50\n",
      "step 100\n",
      "step 150\n",
      "step 200\n",
      "step 250\n",
      "step 300\n",
      "end reweighting for layer 2\n",
      "k 150 gain 10 len 1\n",
      "begin pruning for layer 1\n"
     ]
    },
    {
     "name": "stderr",
     "output_type": "stream",
     "text": [
      "/Users/jean-jacquessimeoni/Desktop/kdpp.py:103: RuntimeWarning: overflow encountered in double_scalars\n",
      "  e[n,l]=e[n-1,l] + l_eig[n-1]*e[n-1,l-1]\n",
      "/Users/jean-jacquessimeoni/Desktop/kdpp.py:56: RuntimeWarning: invalid value encountered in double_scalars\n",
      "  if u < l_eig[n]*e[n][l-1]/e[n+1][l]:\n",
      "/Users/jean-jacquessimeoni/Desktop/kdpp.py:56: RuntimeWarning: overflow encountered in double_scalars\n",
      "  if u < l_eig[n]*e[n][l-1]/e[n+1][l]:\n"
     ]
    },
    {
     "name": "stdout",
     "output_type": "stream",
     "text": [
      "end pruning for layer 1\n",
      "begin reweighting for layer 1\n",
      "step 0\n",
      "step 50\n",
      "step 100\n",
      "step 150\n",
      "step 200\n",
      "step 250\n",
      "step 300\n",
      "end reweighting for layer 1\n",
      "begin pruning for layer 2\n"
     ]
    },
    {
     "name": "stderr",
     "output_type": "stream",
     "text": [
      "/Users/jean-jacquessimeoni/Desktop/kdpp.py:103: RuntimeWarning: overflow encountered in double_scalars\n",
      "  e[n,l]=e[n-1,l] + l_eig[n-1]*e[n-1,l-1]\n",
      "/Users/jean-jacquessimeoni/Desktop/kdpp.py:56: RuntimeWarning: invalid value encountered in double_scalars\n",
      "  if u < l_eig[n]*e[n][l-1]/e[n+1][l]:\n",
      "/Users/jean-jacquessimeoni/Desktop/kdpp.py:56: RuntimeWarning: overflow encountered in double_scalars\n",
      "  if u < l_eig[n]*e[n][l-1]/e[n+1][l]:\n"
     ]
    },
    {
     "name": "stdout",
     "output_type": "stream",
     "text": [
      "end pruning for layer 2\n",
      "begin reweighting for layer 2\n",
      "step 0\n",
      "step 50\n",
      "step 100\n",
      "step 150\n",
      "step 200\n",
      "step 250\n",
      "step 300\n",
      "end reweighting for layer 2\n",
      "k 150 gain 10 len 10\n",
      "begin pruning for layer 1\n"
     ]
    },
    {
     "name": "stderr",
     "output_type": "stream",
     "text": [
      "/Users/jean-jacquessimeoni/Desktop/kdpp.py:103: RuntimeWarning: overflow encountered in double_scalars\n",
      "  e[n,l]=e[n-1,l] + l_eig[n-1]*e[n-1,l-1]\n",
      "/Users/jean-jacquessimeoni/Desktop/kdpp.py:56: RuntimeWarning: invalid value encountered in double_scalars\n",
      "  if u < l_eig[n]*e[n][l-1]/e[n+1][l]:\n",
      "/Users/jean-jacquessimeoni/Desktop/kdpp.py:56: RuntimeWarning: overflow encountered in double_scalars\n",
      "  if u < l_eig[n]*e[n][l-1]/e[n+1][l]:\n"
     ]
    },
    {
     "name": "stdout",
     "output_type": "stream",
     "text": [
      "end pruning for layer 1\n",
      "begin reweighting for layer 1\n",
      "step 0\n",
      "step 50\n",
      "step 100\n",
      "step 150\n",
      "step 200\n",
      "step 250\n",
      "step 300\n",
      "end reweighting for layer 1\n",
      "begin pruning for layer 2\n"
     ]
    },
    {
     "name": "stderr",
     "output_type": "stream",
     "text": [
      "/Users/jean-jacquessimeoni/Desktop/kdpp.py:103: RuntimeWarning: overflow encountered in double_scalars\n",
      "  e[n,l]=e[n-1,l] + l_eig[n-1]*e[n-1,l-1]\n",
      "/Users/jean-jacquessimeoni/Desktop/kdpp.py:56: RuntimeWarning: invalid value encountered in double_scalars\n",
      "  if u < l_eig[n]*e[n][l-1]/e[n+1][l]:\n",
      "/Users/jean-jacquessimeoni/Desktop/kdpp.py:56: RuntimeWarning: overflow encountered in double_scalars\n",
      "  if u < l_eig[n]*e[n][l-1]/e[n+1][l]:\n"
     ]
    },
    {
     "name": "stdout",
     "output_type": "stream",
     "text": [
      "end pruning for layer 2\n",
      "begin reweighting for layer 2\n",
      "step 0\n",
      "step 50\n",
      "step 100\n",
      "step 150\n",
      "step 200\n",
      "step 250\n",
      "step 300\n",
      "end reweighting for layer 2\n",
      "k 150 gain 10 len 100\n",
      "begin pruning for layer 1\n"
     ]
    },
    {
     "name": "stderr",
     "output_type": "stream",
     "text": [
      "/Users/jean-jacquessimeoni/Desktop/kdpp.py:103: RuntimeWarning: overflow encountered in double_scalars\n",
      "  e[n,l]=e[n-1,l] + l_eig[n-1]*e[n-1,l-1]\n",
      "/Users/jean-jacquessimeoni/Desktop/kdpp.py:56: RuntimeWarning: invalid value encountered in double_scalars\n",
      "  if u < l_eig[n]*e[n][l-1]/e[n+1][l]:\n",
      "/Users/jean-jacquessimeoni/Desktop/kdpp.py:56: RuntimeWarning: overflow encountered in double_scalars\n",
      "  if u < l_eig[n]*e[n][l-1]/e[n+1][l]:\n"
     ]
    },
    {
     "name": "stdout",
     "output_type": "stream",
     "text": [
      "end pruning for layer 1\n",
      "begin reweighting for layer 1\n",
      "step 0\n",
      "step 50\n",
      "step 100\n",
      "step 150\n",
      "step 200\n",
      "step 250\n",
      "step 300\n",
      "end reweighting for layer 1\n",
      "begin pruning for layer 2\n"
     ]
    },
    {
     "name": "stderr",
     "output_type": "stream",
     "text": [
      "/Users/jean-jacquessimeoni/Desktop/kdpp.py:103: RuntimeWarning: overflow encountered in double_scalars\n",
      "  e[n,l]=e[n-1,l] + l_eig[n-1]*e[n-1,l-1]\n",
      "/Users/jean-jacquessimeoni/Desktop/kdpp.py:56: RuntimeWarning: invalid value encountered in double_scalars\n",
      "  if u < l_eig[n]*e[n][l-1]/e[n+1][l]:\n",
      "/Users/jean-jacquessimeoni/Desktop/kdpp.py:56: RuntimeWarning: overflow encountered in double_scalars\n",
      "  if u < l_eig[n]*e[n][l-1]/e[n+1][l]:\n"
     ]
    },
    {
     "name": "stdout",
     "output_type": "stream",
     "text": [
      "end pruning for layer 2\n",
      "begin reweighting for layer 2\n",
      "step 0\n",
      "step 50\n",
      "step 100\n",
      "step 150\n",
      "step 200\n",
      "step 250\n",
      "step 300\n",
      "end reweighting for layer 2\n",
      "k 150 gain 100 len 0.1\n",
      "begin pruning for layer 1\n"
     ]
    },
    {
     "name": "stderr",
     "output_type": "stream",
     "text": [
      "/Users/jean-jacquessimeoni/Desktop/kdpp.py:103: RuntimeWarning: overflow encountered in double_scalars\n",
      "  e[n,l]=e[n-1,l] + l_eig[n-1]*e[n-1,l-1]\n",
      "/Users/jean-jacquessimeoni/Desktop/kdpp.py:103: RuntimeWarning: invalid value encountered in double_scalars\n",
      "  e[n,l]=e[n-1,l] + l_eig[n-1]*e[n-1,l-1]\n",
      "/Users/jean-jacquessimeoni/Desktop/kdpp.py:56: RuntimeWarning: invalid value encountered in double_scalars\n",
      "  if u < l_eig[n]*e[n][l-1]/e[n+1][l]:\n"
     ]
    },
    {
     "name": "stdout",
     "output_type": "stream",
     "text": [
      "end pruning for layer 1\n",
      "begin reweighting for layer 1\n",
      "step 0\n",
      "step 50\n",
      "step 100\n",
      "step 150\n",
      "step 200\n",
      "step 250\n",
      "step 300\n",
      "end reweighting for layer 1\n",
      "begin pruning for layer 2\n"
     ]
    },
    {
     "name": "stderr",
     "output_type": "stream",
     "text": [
      "/Users/jean-jacquessimeoni/Desktop/kdpp.py:103: RuntimeWarning: overflow encountered in double_scalars\n",
      "  e[n,l]=e[n-1,l] + l_eig[n-1]*e[n-1,l-1]\n",
      "/Users/jean-jacquessimeoni/Desktop/kdpp.py:103: RuntimeWarning: invalid value encountered in double_scalars\n",
      "  e[n,l]=e[n-1,l] + l_eig[n-1]*e[n-1,l-1]\n",
      "/Users/jean-jacquessimeoni/Desktop/kdpp.py:56: RuntimeWarning: invalid value encountered in double_scalars\n",
      "  if u < l_eig[n]*e[n][l-1]/e[n+1][l]:\n"
     ]
    },
    {
     "name": "stdout",
     "output_type": "stream",
     "text": [
      "end pruning for layer 2\n",
      "begin reweighting for layer 2\n",
      "step 0\n",
      "step 50\n",
      "step 100\n",
      "step 150\n",
      "step 200\n",
      "step 250\n",
      "step 300\n",
      "end reweighting for layer 2\n",
      "k 150 gain 100 len 1\n",
      "begin pruning for layer 1\n"
     ]
    },
    {
     "name": "stderr",
     "output_type": "stream",
     "text": [
      "/Users/jean-jacquessimeoni/Desktop/kdpp.py:103: RuntimeWarning: overflow encountered in double_scalars\n",
      "  e[n,l]=e[n-1,l] + l_eig[n-1]*e[n-1,l-1]\n",
      "/Users/jean-jacquessimeoni/Desktop/kdpp.py:103: RuntimeWarning: invalid value encountered in double_scalars\n",
      "  e[n,l]=e[n-1,l] + l_eig[n-1]*e[n-1,l-1]\n",
      "/Users/jean-jacquessimeoni/Desktop/kdpp.py:56: RuntimeWarning: invalid value encountered in double_scalars\n",
      "  if u < l_eig[n]*e[n][l-1]/e[n+1][l]:\n"
     ]
    },
    {
     "name": "stdout",
     "output_type": "stream",
     "text": [
      "end pruning for layer 1\n",
      "begin reweighting for layer 1\n",
      "step 0\n",
      "step 50\n",
      "step 100\n",
      "step 150\n",
      "step 200\n",
      "step 250\n",
      "step 300\n",
      "end reweighting for layer 1\n",
      "begin pruning for layer 2\n"
     ]
    },
    {
     "name": "stderr",
     "output_type": "stream",
     "text": [
      "/Users/jean-jacquessimeoni/Desktop/kdpp.py:103: RuntimeWarning: overflow encountered in double_scalars\n",
      "  e[n,l]=e[n-1,l] + l_eig[n-1]*e[n-1,l-1]\n",
      "/Users/jean-jacquessimeoni/Desktop/kdpp.py:103: RuntimeWarning: invalid value encountered in double_scalars\n",
      "  e[n,l]=e[n-1,l] + l_eig[n-1]*e[n-1,l-1]\n",
      "/Users/jean-jacquessimeoni/Desktop/kdpp.py:56: RuntimeWarning: overflow encountered in double_scalars\n",
      "  if u < l_eig[n]*e[n][l-1]/e[n+1][l]:\n",
      "/Users/jean-jacquessimeoni/Desktop/kdpp.py:56: RuntimeWarning: invalid value encountered in double_scalars\n",
      "  if u < l_eig[n]*e[n][l-1]/e[n+1][l]:\n"
     ]
    },
    {
     "name": "stdout",
     "output_type": "stream",
     "text": [
      "end pruning for layer 2\n",
      "begin reweighting for layer 2\n",
      "step 0\n",
      "step 50\n",
      "step 100\n",
      "step 150\n",
      "step 200\n",
      "step 250\n",
      "step 300\n",
      "end reweighting for layer 2\n",
      "k 150 gain 100 len 10\n",
      "begin pruning for layer 1\n"
     ]
    },
    {
     "name": "stderr",
     "output_type": "stream",
     "text": [
      "/Users/jean-jacquessimeoni/Desktop/kdpp.py:103: RuntimeWarning: overflow encountered in double_scalars\n",
      "  e[n,l]=e[n-1,l] + l_eig[n-1]*e[n-1,l-1]\n",
      "/Users/jean-jacquessimeoni/Desktop/kdpp.py:103: RuntimeWarning: invalid value encountered in double_scalars\n",
      "  e[n,l]=e[n-1,l] + l_eig[n-1]*e[n-1,l-1]\n",
      "/Users/jean-jacquessimeoni/Desktop/kdpp.py:56: RuntimeWarning: overflow encountered in double_scalars\n",
      "  if u < l_eig[n]*e[n][l-1]/e[n+1][l]:\n",
      "/Users/jean-jacquessimeoni/Desktop/kdpp.py:56: RuntimeWarning: invalid value encountered in double_scalars\n",
      "  if u < l_eig[n]*e[n][l-1]/e[n+1][l]:\n"
     ]
    },
    {
     "name": "stdout",
     "output_type": "stream",
     "text": [
      "end pruning for layer 1\n",
      "begin reweighting for layer 1\n",
      "step 0\n",
      "step 50\n",
      "step 100\n",
      "step 150\n",
      "step 200\n",
      "step 250\n",
      "step 300\n",
      "end reweighting for layer 1\n",
      "begin pruning for layer 2\n"
     ]
    },
    {
     "name": "stderr",
     "output_type": "stream",
     "text": [
      "/Users/jean-jacquessimeoni/Desktop/kdpp.py:103: RuntimeWarning: overflow encountered in double_scalars\n",
      "  e[n,l]=e[n-1,l] + l_eig[n-1]*e[n-1,l-1]\n",
      "/Users/jean-jacquessimeoni/Desktop/kdpp.py:103: RuntimeWarning: invalid value encountered in double_scalars\n",
      "  e[n,l]=e[n-1,l] + l_eig[n-1]*e[n-1,l-1]\n",
      "/Users/jean-jacquessimeoni/Desktop/kdpp.py:56: RuntimeWarning: overflow encountered in double_scalars\n",
      "  if u < l_eig[n]*e[n][l-1]/e[n+1][l]:\n",
      "/Users/jean-jacquessimeoni/Desktop/kdpp.py:56: RuntimeWarning: invalid value encountered in double_scalars\n",
      "  if u < l_eig[n]*e[n][l-1]/e[n+1][l]:\n"
     ]
    },
    {
     "name": "stdout",
     "output_type": "stream",
     "text": [
      "end pruning for layer 2\n",
      "begin reweighting for layer 2\n",
      "step 0\n",
      "step 50\n",
      "step 100\n",
      "step 150\n",
      "step 200\n",
      "step 250\n",
      "step 300\n",
      "end reweighting for layer 2\n",
      "k 150 gain 100 len 100\n",
      "begin pruning for layer 1\n"
     ]
    },
    {
     "name": "stderr",
     "output_type": "stream",
     "text": [
      "/Users/jean-jacquessimeoni/Desktop/kdpp.py:103: RuntimeWarning: overflow encountered in double_scalars\n",
      "  e[n,l]=e[n-1,l] + l_eig[n-1]*e[n-1,l-1]\n",
      "/Users/jean-jacquessimeoni/Desktop/kdpp.py:103: RuntimeWarning: invalid value encountered in double_scalars\n",
      "  e[n,l]=e[n-1,l] + l_eig[n-1]*e[n-1,l-1]\n",
      "/Users/jean-jacquessimeoni/Desktop/kdpp.py:56: RuntimeWarning: invalid value encountered in double_scalars\n",
      "  if u < l_eig[n]*e[n][l-1]/e[n+1][l]:\n"
     ]
    },
    {
     "name": "stdout",
     "output_type": "stream",
     "text": [
      "end pruning for layer 1\n",
      "begin reweighting for layer 1\n",
      "step 0\n",
      "step 50\n",
      "step 100\n",
      "step 150\n",
      "step 200\n",
      "step 250\n",
      "step 300\n",
      "end reweighting for layer 1\n",
      "begin pruning for layer 2\n"
     ]
    },
    {
     "name": "stderr",
     "output_type": "stream",
     "text": [
      "/Users/jean-jacquessimeoni/Desktop/kdpp.py:103: RuntimeWarning: overflow encountered in double_scalars\n",
      "  e[n,l]=e[n-1,l] + l_eig[n-1]*e[n-1,l-1]\n",
      "/Users/jean-jacquessimeoni/Desktop/kdpp.py:103: RuntimeWarning: invalid value encountered in double_scalars\n",
      "  e[n,l]=e[n-1,l] + l_eig[n-1]*e[n-1,l-1]\n",
      "/Users/jean-jacquessimeoni/Desktop/kdpp.py:56: RuntimeWarning: invalid value encountered in double_scalars\n",
      "  if u < l_eig[n]*e[n][l-1]/e[n+1][l]:\n"
     ]
    },
    {
     "name": "stdout",
     "output_type": "stream",
     "text": [
      "end pruning for layer 2\n",
      "begin reweighting for layer 2\n",
      "step 0\n",
      "step 50\n",
      "step 100\n",
      "step 150\n",
      "step 200\n",
      "step 250\n",
      "step 300\n",
      "end reweighting for layer 2\n",
      "k 200 gain 0.1 len 0.1\n",
      "begin pruning for layer 1\n",
      "end pruning for layer 1\n",
      "begin reweighting for layer 1\n",
      "step 0\n",
      "step 50\n",
      "step 100\n",
      "step 150\n",
      "step 200\n",
      "step 250\n",
      "end reweighting for layer 1\n",
      "begin pruning for layer 2\n",
      "end pruning for layer 2\n",
      "begin reweighting for layer 2\n",
      "step 0\n",
      "step 50\n",
      "step 100\n",
      "step 150\n",
      "step 200\n",
      "step 250\n",
      "end reweighting for layer 2\n",
      "k 200 gain 0.1 len 1\n",
      "begin pruning for layer 1\n",
      "end pruning for layer 1\n",
      "begin reweighting for layer 1\n",
      "step 0\n",
      "step 50\n",
      "step 100\n",
      "step 150\n",
      "step 200\n",
      "step 250\n",
      "end reweighting for layer 1\n",
      "begin pruning for layer 2\n",
      "end pruning for layer 2\n",
      "begin reweighting for layer 2\n",
      "step 0\n",
      "step 50\n",
      "step 100\n",
      "step 150\n",
      "step 200\n",
      "step 250\n",
      "end reweighting for layer 2\n",
      "k 200 gain 0.1 len 10\n",
      "begin pruning for layer 1\n",
      "end pruning for layer 1\n",
      "begin reweighting for layer 1\n",
      "step 0\n",
      "step 50\n",
      "step 100\n",
      "step 150\n",
      "step 200\n",
      "step 250\n",
      "end reweighting for layer 1\n",
      "begin pruning for layer 2\n",
      "end pruning for layer 2\n",
      "begin reweighting for layer 2\n",
      "step 0\n",
      "step 50\n",
      "step 100\n",
      "step 150\n",
      "step 200\n",
      "step 250\n",
      "end reweighting for layer 2\n",
      "k 200 gain 0.1 len 100\n",
      "begin pruning for layer 1\n",
      "end pruning for layer 1\n",
      "begin reweighting for layer 1\n",
      "step 0\n",
      "step 50\n",
      "step 100\n",
      "step 150\n",
      "step 200\n",
      "step 250\n",
      "end reweighting for layer 1\n",
      "begin pruning for layer 2\n",
      "end pruning for layer 2\n",
      "begin reweighting for layer 2\n",
      "step 0\n",
      "step 50\n",
      "step 100\n",
      "step 150\n",
      "step 200\n",
      "step 250\n",
      "end reweighting for layer 2\n",
      "k 200 gain 1 len 0.1\n",
      "begin pruning for layer 1\n",
      "end pruning for layer 1\n",
      "begin reweighting for layer 1\n",
      "step 0\n",
      "step 50\n",
      "step 100\n",
      "step 150\n",
      "step 200\n",
      "step 250\n",
      "end reweighting for layer 1\n",
      "begin pruning for layer 2\n",
      "end pruning for layer 2\n",
      "begin reweighting for layer 2\n",
      "step 0\n",
      "step 50\n",
      "step 100\n",
      "step 150\n",
      "step 200\n",
      "step 250\n",
      "end reweighting for layer 2\n",
      "k 200 gain 1 len 1\n",
      "begin pruning for layer 1\n",
      "end pruning for layer 1\n",
      "begin reweighting for layer 1\n",
      "step 0\n",
      "step 50\n",
      "step 100\n",
      "step 150\n",
      "step 200\n",
      "step 250\n",
      "end reweighting for layer 1\n",
      "begin pruning for layer 2\n",
      "end pruning for layer 2\n",
      "begin reweighting for layer 2\n",
      "step 0\n",
      "step 50\n",
      "step 100\n",
      "step 150\n",
      "step 200\n",
      "step 250\n",
      "end reweighting for layer 2\n",
      "k 200 gain 1 len 10\n",
      "begin pruning for layer 1\n",
      "end pruning for layer 1\n",
      "begin reweighting for layer 1\n",
      "step 0\n",
      "step 50\n",
      "step 100\n",
      "step 150\n",
      "step 200\n",
      "step 250\n",
      "end reweighting for layer 1\n",
      "begin pruning for layer 2\n",
      "end pruning for layer 2\n",
      "begin reweighting for layer 2\n",
      "step 0\n",
      "step 50\n",
      "step 100\n",
      "step 150\n",
      "step 200\n",
      "step 250\n",
      "end reweighting for layer 2\n",
      "k 200 gain 1 len 100\n",
      "begin pruning for layer 1\n",
      "end pruning for layer 1\n",
      "begin reweighting for layer 1\n",
      "step 0\n",
      "step 50\n",
      "step 100\n",
      "step 150\n",
      "step 200\n",
      "step 250\n",
      "end reweighting for layer 1\n",
      "begin pruning for layer 2\n",
      "end pruning for layer 2\n",
      "begin reweighting for layer 2\n",
      "step 0\n",
      "step 50\n",
      "step 100\n",
      "step 150\n",
      "step 200\n",
      "step 250\n",
      "end reweighting for layer 2\n",
      "k 200 gain 10 len 0.1\n",
      "begin pruning for layer 1\n"
     ]
    },
    {
     "name": "stderr",
     "output_type": "stream",
     "text": [
      "/Users/jean-jacquessimeoni/Desktop/kdpp.py:103: RuntimeWarning: overflow encountered in double_scalars\n",
      "  e[n,l]=e[n-1,l] + l_eig[n-1]*e[n-1,l-1]\n",
      "/Users/jean-jacquessimeoni/Desktop/kdpp.py:56: RuntimeWarning: invalid value encountered in double_scalars\n",
      "  if u < l_eig[n]*e[n][l-1]/e[n+1][l]:\n",
      "/Users/jean-jacquessimeoni/Desktop/kdpp.py:56: RuntimeWarning: overflow encountered in double_scalars\n",
      "  if u < l_eig[n]*e[n][l-1]/e[n+1][l]:\n"
     ]
    },
    {
     "name": "stdout",
     "output_type": "stream",
     "text": [
      "end pruning for layer 1\n",
      "begin reweighting for layer 1\n",
      "step 0\n",
      "step 50\n",
      "step 100\n",
      "step 150\n",
      "step 200\n",
      "step 250\n",
      "end reweighting for layer 1\n",
      "begin pruning for layer 2\n"
     ]
    },
    {
     "name": "stderr",
     "output_type": "stream",
     "text": [
      "/Users/jean-jacquessimeoni/Desktop/kdpp.py:103: RuntimeWarning: overflow encountered in double_scalars\n",
      "  e[n,l]=e[n-1,l] + l_eig[n-1]*e[n-1,l-1]\n",
      "/Users/jean-jacquessimeoni/Desktop/kdpp.py:56: RuntimeWarning: invalid value encountered in double_scalars\n",
      "  if u < l_eig[n]*e[n][l-1]/e[n+1][l]:\n",
      "/Users/jean-jacquessimeoni/Desktop/kdpp.py:56: RuntimeWarning: overflow encountered in double_scalars\n",
      "  if u < l_eig[n]*e[n][l-1]/e[n+1][l]:\n"
     ]
    },
    {
     "name": "stdout",
     "output_type": "stream",
     "text": [
      "end pruning for layer 2\n",
      "begin reweighting for layer 2\n",
      "step 0\n",
      "step 50\n",
      "step 100\n",
      "step 150\n",
      "step 200\n",
      "step 250\n",
      "end reweighting for layer 2\n",
      "k 200 gain 10 len 1\n",
      "begin pruning for layer 1\n"
     ]
    },
    {
     "name": "stderr",
     "output_type": "stream",
     "text": [
      "/Users/jean-jacquessimeoni/Desktop/kdpp.py:103: RuntimeWarning: overflow encountered in double_scalars\n",
      "  e[n,l]=e[n-1,l] + l_eig[n-1]*e[n-1,l-1]\n",
      "/Users/jean-jacquessimeoni/Desktop/kdpp.py:103: RuntimeWarning: invalid value encountered in double_scalars\n",
      "  e[n,l]=e[n-1,l] + l_eig[n-1]*e[n-1,l-1]\n",
      "/Users/jean-jacquessimeoni/Desktop/kdpp.py:56: RuntimeWarning: invalid value encountered in double_scalars\n",
      "  if u < l_eig[n]*e[n][l-1]/e[n+1][l]:\n"
     ]
    },
    {
     "name": "stdout",
     "output_type": "stream",
     "text": [
      "end pruning for layer 1\n",
      "begin reweighting for layer 1\n",
      "step 0\n",
      "step 50\n",
      "step 100\n",
      "step 150\n",
      "step 200\n",
      "step 250\n",
      "end reweighting for layer 1\n",
      "begin pruning for layer 2\n"
     ]
    },
    {
     "name": "stderr",
     "output_type": "stream",
     "text": [
      "/Users/jean-jacquessimeoni/Desktop/kdpp.py:103: RuntimeWarning: overflow encountered in double_scalars\n",
      "  e[n,l]=e[n-1,l] + l_eig[n-1]*e[n-1,l-1]\n",
      "/Users/jean-jacquessimeoni/Desktop/kdpp.py:103: RuntimeWarning: invalid value encountered in double_scalars\n",
      "  e[n,l]=e[n-1,l] + l_eig[n-1]*e[n-1,l-1]\n",
      "/Users/jean-jacquessimeoni/Desktop/kdpp.py:56: RuntimeWarning: invalid value encountered in double_scalars\n",
      "  if u < l_eig[n]*e[n][l-1]/e[n+1][l]:\n"
     ]
    },
    {
     "name": "stdout",
     "output_type": "stream",
     "text": [
      "end pruning for layer 2\n",
      "begin reweighting for layer 2\n",
      "step 0\n",
      "step 50\n",
      "step 100\n",
      "step 150\n",
      "step 200\n",
      "step 250\n",
      "end reweighting for layer 2\n",
      "k 200 gain 10 len 10\n",
      "begin pruning for layer 1\n"
     ]
    },
    {
     "name": "stderr",
     "output_type": "stream",
     "text": [
      "/Users/jean-jacquessimeoni/Desktop/kdpp.py:103: RuntimeWarning: overflow encountered in double_scalars\n",
      "  e[n,l]=e[n-1,l] + l_eig[n-1]*e[n-1,l-1]\n",
      "/Users/jean-jacquessimeoni/Desktop/kdpp.py:103: RuntimeWarning: invalid value encountered in double_scalars\n",
      "  e[n,l]=e[n-1,l] + l_eig[n-1]*e[n-1,l-1]\n",
      "/Users/jean-jacquessimeoni/Desktop/kdpp.py:56: RuntimeWarning: invalid value encountered in double_scalars\n",
      "  if u < l_eig[n]*e[n][l-1]/e[n+1][l]:\n"
     ]
    },
    {
     "name": "stdout",
     "output_type": "stream",
     "text": [
      "end pruning for layer 1\n",
      "begin reweighting for layer 1\n",
      "step 0\n",
      "step 50\n",
      "step 100\n",
      "step 150\n",
      "step 200\n",
      "step 250\n",
      "end reweighting for layer 1\n",
      "begin pruning for layer 2\n"
     ]
    },
    {
     "name": "stderr",
     "output_type": "stream",
     "text": [
      "/Users/jean-jacquessimeoni/Desktop/kdpp.py:103: RuntimeWarning: overflow encountered in double_scalars\n",
      "  e[n,l]=e[n-1,l] + l_eig[n-1]*e[n-1,l-1]\n",
      "/Users/jean-jacquessimeoni/Desktop/kdpp.py:103: RuntimeWarning: invalid value encountered in double_scalars\n",
      "  e[n,l]=e[n-1,l] + l_eig[n-1]*e[n-1,l-1]\n",
      "/Users/jean-jacquessimeoni/Desktop/kdpp.py:56: RuntimeWarning: invalid value encountered in double_scalars\n",
      "  if u < l_eig[n]*e[n][l-1]/e[n+1][l]:\n"
     ]
    },
    {
     "name": "stdout",
     "output_type": "stream",
     "text": [
      "end pruning for layer 2\n",
      "begin reweighting for layer 2\n",
      "step 0\n",
      "step 50\n",
      "step 100\n",
      "step 150\n",
      "step 200\n",
      "step 250\n",
      "end reweighting for layer 2\n",
      "k 200 gain 10 len 100\n",
      "begin pruning for layer 1\n"
     ]
    },
    {
     "name": "stderr",
     "output_type": "stream",
     "text": [
      "/Users/jean-jacquessimeoni/Desktop/kdpp.py:103: RuntimeWarning: overflow encountered in double_scalars\n",
      "  e[n,l]=e[n-1,l] + l_eig[n-1]*e[n-1,l-1]\n",
      "/Users/jean-jacquessimeoni/Desktop/kdpp.py:103: RuntimeWarning: invalid value encountered in double_scalars\n",
      "  e[n,l]=e[n-1,l] + l_eig[n-1]*e[n-1,l-1]\n",
      "/Users/jean-jacquessimeoni/Desktop/kdpp.py:56: RuntimeWarning: invalid value encountered in double_scalars\n",
      "  if u < l_eig[n]*e[n][l-1]/e[n+1][l]:\n"
     ]
    },
    {
     "name": "stdout",
     "output_type": "stream",
     "text": [
      "end pruning for layer 1\n",
      "begin reweighting for layer 1\n",
      "step 0\n",
      "step 50\n",
      "step 100\n",
      "step 150\n",
      "step 200\n",
      "step 250\n",
      "end reweighting for layer 1\n",
      "begin pruning for layer 2\n"
     ]
    },
    {
     "name": "stderr",
     "output_type": "stream",
     "text": [
      "/Users/jean-jacquessimeoni/Desktop/kdpp.py:103: RuntimeWarning: overflow encountered in double_scalars\n",
      "  e[n,l]=e[n-1,l] + l_eig[n-1]*e[n-1,l-1]\n",
      "/Users/jean-jacquessimeoni/Desktop/kdpp.py:103: RuntimeWarning: invalid value encountered in double_scalars\n",
      "  e[n,l]=e[n-1,l] + l_eig[n-1]*e[n-1,l-1]\n",
      "/Users/jean-jacquessimeoni/Desktop/kdpp.py:56: RuntimeWarning: invalid value encountered in double_scalars\n",
      "  if u < l_eig[n]*e[n][l-1]/e[n+1][l]:\n"
     ]
    },
    {
     "name": "stdout",
     "output_type": "stream",
     "text": [
      "end pruning for layer 2\n",
      "begin reweighting for layer 2\n",
      "step 0\n",
      "step 50\n",
      "step 100\n",
      "step 150\n",
      "step 200\n",
      "step 250\n",
      "end reweighting for layer 2\n",
      "k 200 gain 100 len 0.1\n",
      "begin pruning for layer 1\n"
     ]
    },
    {
     "name": "stderr",
     "output_type": "stream",
     "text": [
      "/Users/jean-jacquessimeoni/Desktop/kdpp.py:103: RuntimeWarning: overflow encountered in double_scalars\n",
      "  e[n,l]=e[n-1,l] + l_eig[n-1]*e[n-1,l-1]\n",
      "/Users/jean-jacquessimeoni/Desktop/kdpp.py:103: RuntimeWarning: invalid value encountered in double_scalars\n",
      "  e[n,l]=e[n-1,l] + l_eig[n-1]*e[n-1,l-1]\n",
      "/Users/jean-jacquessimeoni/Desktop/kdpp.py:56: RuntimeWarning: invalid value encountered in double_scalars\n",
      "  if u < l_eig[n]*e[n][l-1]/e[n+1][l]:\n"
     ]
    },
    {
     "name": "stdout",
     "output_type": "stream",
     "text": [
      "end pruning for layer 1\n",
      "begin reweighting for layer 1\n",
      "step 0\n",
      "step 50\n",
      "step 100\n",
      "step 150\n",
      "step 200\n",
      "step 250\n",
      "end reweighting for layer 1\n",
      "begin pruning for layer 2\n"
     ]
    },
    {
     "name": "stderr",
     "output_type": "stream",
     "text": [
      "/Users/jean-jacquessimeoni/Desktop/kdpp.py:103: RuntimeWarning: overflow encountered in double_scalars\n",
      "  e[n,l]=e[n-1,l] + l_eig[n-1]*e[n-1,l-1]\n",
      "/Users/jean-jacquessimeoni/Desktop/kdpp.py:103: RuntimeWarning: invalid value encountered in double_scalars\n",
      "  e[n,l]=e[n-1,l] + l_eig[n-1]*e[n-1,l-1]\n",
      "/Users/jean-jacquessimeoni/Desktop/kdpp.py:56: RuntimeWarning: overflow encountered in double_scalars\n",
      "  if u < l_eig[n]*e[n][l-1]/e[n+1][l]:\n",
      "/Users/jean-jacquessimeoni/Desktop/kdpp.py:56: RuntimeWarning: invalid value encountered in double_scalars\n",
      "  if u < l_eig[n]*e[n][l-1]/e[n+1][l]:\n"
     ]
    },
    {
     "name": "stdout",
     "output_type": "stream",
     "text": [
      "end pruning for layer 2\n",
      "begin reweighting for layer 2\n",
      "step 0\n",
      "step 50\n",
      "step 100\n",
      "step 150\n",
      "step 200\n",
      "step 250\n",
      "end reweighting for layer 2\n",
      "k 200 gain 100 len 1\n",
      "begin pruning for layer 1\n",
      "end pruning for layer 1\n",
      "begin reweighting for layer 1\n",
      "step 0\n"
     ]
    },
    {
     "name": "stderr",
     "output_type": "stream",
     "text": [
      "/Users/jean-jacquessimeoni/Desktop/kdpp.py:103: RuntimeWarning: overflow encountered in double_scalars\n",
      "  e[n,l]=e[n-1,l] + l_eig[n-1]*e[n-1,l-1]\n",
      "/Users/jean-jacquessimeoni/Desktop/kdpp.py:103: RuntimeWarning: invalid value encountered in double_scalars\n",
      "  e[n,l]=e[n-1,l] + l_eig[n-1]*e[n-1,l-1]\n",
      "/Users/jean-jacquessimeoni/Desktop/kdpp.py:56: RuntimeWarning: invalid value encountered in double_scalars\n",
      "  if u < l_eig[n]*e[n][l-1]/e[n+1][l]:\n"
     ]
    },
    {
     "ename": "ValueError",
     "evalue": "zero-size array to reduction operation maximum which has no identity",
     "output_type": "error",
     "traceback": [
      "\u001b[0;31m---------------------------------------------------------------------------\u001b[0m",
      "\u001b[0;31mValueError\u001b[0m                                Traceback (most recent call last)",
      "\u001b[0;32m<ipython-input-23-9d95d7d3e91a>\u001b[0m in \u001b[0;36m<module>\u001b[0;34m\u001b[0m\n\u001b[1;32m     10\u001b[0m                 \u001b[0;32mreturn\u001b[0m \u001b[0mK\u001b[0m\u001b[0;34m\u001b[0m\u001b[0;34m\u001b[0m\u001b[0m\n\u001b[1;32m     11\u001b[0m             \u001b[0mprint\u001b[0m\u001b[0;34m(\u001b[0m\u001b[0;34m\"k\"\u001b[0m\u001b[0;34m,\u001b[0m \u001b[0mk\u001b[0m\u001b[0;34m,\u001b[0m \u001b[0;34m\"gain\"\u001b[0m\u001b[0;34m,\u001b[0m \u001b[0mgain\u001b[0m\u001b[0;34m,\u001b[0m \u001b[0;34m\"len\"\u001b[0m\u001b[0;34m,\u001b[0m \u001b[0mlen_\u001b[0m\u001b[0;34m)\u001b[0m\u001b[0;34m\u001b[0m\u001b[0;34m\u001b[0m\u001b[0m\n\u001b[0;32m---> 12\u001b[0;31m             \u001b[0macc\u001b[0m \u001b[0;34m=\u001b[0m \u001b[0mresults\u001b[0m\u001b[0;34m(\u001b[0m\u001b[0midx_f\u001b[0m\u001b[0;34m,\u001b[0m \u001b[0mk\u001b[0m\u001b[0;34m,\u001b[0m \u001b[0mk\u001b[0m\u001b[0;34m,\u001b[0m \u001b[0mkernel_se\u001b[0m\u001b[0;34m)\u001b[0m\u001b[0;34m\u001b[0m\u001b[0;34m\u001b[0m\u001b[0m\n\u001b[0m\u001b[1;32m     13\u001b[0m             \u001b[0mresults_\u001b[0m\u001b[0;34m.\u001b[0m\u001b[0mappend\u001b[0m\u001b[0;34m(\u001b[0m\u001b[0;34m(\u001b[0m\u001b[0mk\u001b[0m\u001b[0;34m,\u001b[0m \u001b[0mgain\u001b[0m\u001b[0;34m,\u001b[0m \u001b[0mlen_\u001b[0m\u001b[0;34m,\u001b[0m \u001b[0macc\u001b[0m\u001b[0;34m)\u001b[0m\u001b[0;34m)\u001b[0m\u001b[0;34m\u001b[0m\u001b[0;34m\u001b[0m\u001b[0m\n",
      "\u001b[0;32m<ipython-input-22-cac97c92cee6>\u001b[0m in \u001b[0;36mresults\u001b[0;34m(idx_f, k_1, k_2, kernel, Weights1, Weights2, Weights3, bias1, bias2, bias3)\u001b[0m\n\u001b[1;32m     24\u001b[0m     \u001b[0mprint\u001b[0m\u001b[0;34m(\u001b[0m\u001b[0;34m\"begin reweighting for layer 1\"\u001b[0m\u001b[0;34m)\u001b[0m\u001b[0;34m\u001b[0m\u001b[0;34m\u001b[0m\u001b[0m\n\u001b[1;32m     25\u001b[0m     \u001b[0mactivations\u001b[0m \u001b[0;34m=\u001b[0m \u001b[0mnp\u001b[0m\u001b[0;34m.\u001b[0m\u001b[0marray\u001b[0m\u001b[0;34m(\u001b[0m\u001b[0;34m[\u001b[0m\u001b[0mact_idx1\u001b[0m\u001b[0;34m,\u001b[0m \u001b[0mact_layer1\u001b[0m\u001b[0;34m.\u001b[0m\u001b[0mT\u001b[0m\u001b[0;34m,\u001b[0m \u001b[0mact_layer2\u001b[0m\u001b[0;34m.\u001b[0m\u001b[0mT\u001b[0m\u001b[0;34m,\u001b[0m \u001b[0mact_layer3\u001b[0m\u001b[0;34m.\u001b[0m\u001b[0mT\u001b[0m\u001b[0;34m]\u001b[0m\u001b[0;34m)\u001b[0m\u001b[0;34m\u001b[0m\u001b[0;34m\u001b[0m\u001b[0m\n\u001b[0;32m---> 26\u001b[0;31m     \u001b[0mnew_parameters1\u001b[0m \u001b[0;34m=\u001b[0m \u001b[0mreweight\u001b[0m\u001b[0;34m(\u001b[0m\u001b[0mlayer\u001b[0m\u001b[0;34m,\u001b[0m \u001b[0mactivations\u001b[0m\u001b[0;34m,\u001b[0m \u001b[0mnew_parameters1\u001b[0m\u001b[0;34m,\u001b[0m \u001b[0midx1\u001b[0m\u001b[0;34m,\u001b[0m \u001b[0mdrop_idx\u001b[0m\u001b[0;34m,\u001b[0m \u001b[0mdrop_weights\u001b[0m\u001b[0;34m)\u001b[0m\u001b[0;34m\u001b[0m\u001b[0;34m\u001b[0m\u001b[0m\n\u001b[0m\u001b[1;32m     27\u001b[0m     \u001b[0mprint\u001b[0m\u001b[0;34m(\u001b[0m\u001b[0;34m\"end reweighting for layer 1\"\u001b[0m\u001b[0;34m)\u001b[0m\u001b[0;34m\u001b[0m\u001b[0;34m\u001b[0m\u001b[0m\n\u001b[1;32m     28\u001b[0m \u001b[0;34m\u001b[0m\u001b[0m\n",
      "\u001b[0;32m<ipython-input-11-17740f63be95>\u001b[0m in \u001b[0;36mreweight\u001b[0;34m(layer, activations, new_parameters, idx, drop_idx, drop_weights)\u001b[0m\n\u001b[1;32m     22\u001b[0m         \u001b[0;32mif\u001b[0m \u001b[0mi\u001b[0m\u001b[0;34m%\u001b[0m\u001b[0;36m50\u001b[0m \u001b[0;34m==\u001b[0m \u001b[0;36m0\u001b[0m\u001b[0;34m:\u001b[0m\u001b[0;34m\u001b[0m\u001b[0;34m\u001b[0m\u001b[0m\n\u001b[1;32m     23\u001b[0m             \u001b[0mprint\u001b[0m\u001b[0;34m(\u001b[0m\u001b[0;34m\"step\"\u001b[0m\u001b[0;34m,\u001b[0m \u001b[0mi\u001b[0m\u001b[0;34m)\u001b[0m\u001b[0;34m\u001b[0m\u001b[0;34m\u001b[0m\u001b[0m\n\u001b[0;32m---> 24\u001b[0;31m         \u001b[0malpha_results\u001b[0m \u001b[0;34m+=\u001b[0m \u001b[0;34m[\u001b[0m\u001b[0mminimize\u001b[0m\u001b[0;34m(\u001b[0m\u001b[0mproj1\u001b[0m\u001b[0;34m,\u001b[0m \u001b[0mnp\u001b[0m\u001b[0;34m.\u001b[0m\u001b[0mrandom\u001b[0m\u001b[0;34m.\u001b[0m\u001b[0mrandom\u001b[0m\u001b[0;34m(\u001b[0m\u001b[0mlen\u001b[0m\u001b[0;34m(\u001b[0m\u001b[0mact_idx\u001b[0m\u001b[0;34m)\u001b[0m\u001b[0;34m)\u001b[0m\u001b[0;34m,\u001b[0m \u001b[0;34m(\u001b[0m\u001b[0mi\u001b[0m\u001b[0;34m)\u001b[0m\u001b[0;34m)\u001b[0m\u001b[0;34m]\u001b[0m\u001b[0;34m\u001b[0m\u001b[0;34m\u001b[0m\u001b[0m\n\u001b[0m\u001b[1;32m     25\u001b[0m \u001b[0;34m\u001b[0m\u001b[0m\n\u001b[1;32m     26\u001b[0m     \u001b[0;32mfor\u001b[0m \u001b[0mi\u001b[0m \u001b[0;32min\u001b[0m \u001b[0mrange\u001b[0m\u001b[0;34m(\u001b[0m\u001b[0mlen\u001b[0m\u001b[0;34m(\u001b[0m\u001b[0mdrop_idx\u001b[0m\u001b[0;34m)\u001b[0m\u001b[0;34m)\u001b[0m\u001b[0;34m:\u001b[0m\u001b[0;34m\u001b[0m\u001b[0;34m\u001b[0m\u001b[0m\n",
      "\u001b[0;32m/anaconda3/lib/python3.7/site-packages/scipy/optimize/_minimize.py\u001b[0m in \u001b[0;36mminimize\u001b[0;34m(fun, x0, args, method, jac, hess, hessp, bounds, constraints, tol, callback, options)\u001b[0m\n\u001b[1;32m    595\u001b[0m         \u001b[0;32mreturn\u001b[0m \u001b[0m_minimize_cg\u001b[0m\u001b[0;34m(\u001b[0m\u001b[0mfun\u001b[0m\u001b[0;34m,\u001b[0m \u001b[0mx0\u001b[0m\u001b[0;34m,\u001b[0m \u001b[0margs\u001b[0m\u001b[0;34m,\u001b[0m \u001b[0mjac\u001b[0m\u001b[0;34m,\u001b[0m \u001b[0mcallback\u001b[0m\u001b[0;34m,\u001b[0m \u001b[0;34m**\u001b[0m\u001b[0moptions\u001b[0m\u001b[0;34m)\u001b[0m\u001b[0;34m\u001b[0m\u001b[0;34m\u001b[0m\u001b[0m\n\u001b[1;32m    596\u001b[0m     \u001b[0;32melif\u001b[0m \u001b[0mmeth\u001b[0m \u001b[0;34m==\u001b[0m \u001b[0;34m'bfgs'\u001b[0m\u001b[0;34m:\u001b[0m\u001b[0;34m\u001b[0m\u001b[0;34m\u001b[0m\u001b[0m\n\u001b[0;32m--> 597\u001b[0;31m         \u001b[0;32mreturn\u001b[0m \u001b[0m_minimize_bfgs\u001b[0m\u001b[0;34m(\u001b[0m\u001b[0mfun\u001b[0m\u001b[0;34m,\u001b[0m \u001b[0mx0\u001b[0m\u001b[0;34m,\u001b[0m \u001b[0margs\u001b[0m\u001b[0;34m,\u001b[0m \u001b[0mjac\u001b[0m\u001b[0;34m,\u001b[0m \u001b[0mcallback\u001b[0m\u001b[0;34m,\u001b[0m \u001b[0;34m**\u001b[0m\u001b[0moptions\u001b[0m\u001b[0;34m)\u001b[0m\u001b[0;34m\u001b[0m\u001b[0;34m\u001b[0m\u001b[0m\n\u001b[0m\u001b[1;32m    598\u001b[0m     \u001b[0;32melif\u001b[0m \u001b[0mmeth\u001b[0m \u001b[0;34m==\u001b[0m \u001b[0;34m'newton-cg'\u001b[0m\u001b[0;34m:\u001b[0m\u001b[0;34m\u001b[0m\u001b[0;34m\u001b[0m\u001b[0m\n\u001b[1;32m    599\u001b[0m         return _minimize_newtoncg(fun, x0, args, jac, hess, hessp, callback,\n",
      "\u001b[0;32m/anaconda3/lib/python3.7/site-packages/scipy/optimize/optimize.py\u001b[0m in \u001b[0;36m_minimize_bfgs\u001b[0;34m(fun, x0, args, jac, callback, gtol, norm, eps, maxiter, disp, return_all, **unknown_options)\u001b[0m\n\u001b[1;32m    975\u001b[0m         \u001b[0mallvecs\u001b[0m \u001b[0;34m=\u001b[0m \u001b[0;34m[\u001b[0m\u001b[0mx0\u001b[0m\u001b[0;34m]\u001b[0m\u001b[0;34m\u001b[0m\u001b[0;34m\u001b[0m\u001b[0m\n\u001b[1;32m    976\u001b[0m     \u001b[0mwarnflag\u001b[0m \u001b[0;34m=\u001b[0m \u001b[0;36m0\u001b[0m\u001b[0;34m\u001b[0m\u001b[0;34m\u001b[0m\u001b[0m\n\u001b[0;32m--> 977\u001b[0;31m     \u001b[0mgnorm\u001b[0m \u001b[0;34m=\u001b[0m \u001b[0mvecnorm\u001b[0m\u001b[0;34m(\u001b[0m\u001b[0mgfk\u001b[0m\u001b[0;34m,\u001b[0m \u001b[0mord\u001b[0m\u001b[0;34m=\u001b[0m\u001b[0mnorm\u001b[0m\u001b[0;34m)\u001b[0m\u001b[0;34m\u001b[0m\u001b[0;34m\u001b[0m\u001b[0m\n\u001b[0m\u001b[1;32m    978\u001b[0m     \u001b[0;32mwhile\u001b[0m \u001b[0;34m(\u001b[0m\u001b[0mgnorm\u001b[0m \u001b[0;34m>\u001b[0m \u001b[0mgtol\u001b[0m\u001b[0;34m)\u001b[0m \u001b[0;32mand\u001b[0m \u001b[0;34m(\u001b[0m\u001b[0mk\u001b[0m \u001b[0;34m<\u001b[0m \u001b[0mmaxiter\u001b[0m\u001b[0;34m)\u001b[0m\u001b[0;34m:\u001b[0m\u001b[0;34m\u001b[0m\u001b[0;34m\u001b[0m\u001b[0m\n\u001b[1;32m    979\u001b[0m         \u001b[0mpk\u001b[0m \u001b[0;34m=\u001b[0m \u001b[0;34m-\u001b[0m\u001b[0mnumpy\u001b[0m\u001b[0;34m.\u001b[0m\u001b[0mdot\u001b[0m\u001b[0;34m(\u001b[0m\u001b[0mHk\u001b[0m\u001b[0;34m,\u001b[0m \u001b[0mgfk\u001b[0m\u001b[0;34m)\u001b[0m\u001b[0;34m\u001b[0m\u001b[0;34m\u001b[0m\u001b[0m\n",
      "\u001b[0;32m/anaconda3/lib/python3.7/site-packages/scipy/optimize/optimize.py\u001b[0m in \u001b[0;36mvecnorm\u001b[0;34m(x, ord)\u001b[0m\n\u001b[1;32m    156\u001b[0m \u001b[0;32mdef\u001b[0m \u001b[0mvecnorm\u001b[0m\u001b[0;34m(\u001b[0m\u001b[0mx\u001b[0m\u001b[0;34m,\u001b[0m \u001b[0mord\u001b[0m\u001b[0;34m=\u001b[0m\u001b[0;36m2\u001b[0m\u001b[0;34m)\u001b[0m\u001b[0;34m:\u001b[0m\u001b[0;34m\u001b[0m\u001b[0;34m\u001b[0m\u001b[0m\n\u001b[1;32m    157\u001b[0m     \u001b[0;32mif\u001b[0m \u001b[0mord\u001b[0m \u001b[0;34m==\u001b[0m \u001b[0mInf\u001b[0m\u001b[0;34m:\u001b[0m\u001b[0;34m\u001b[0m\u001b[0;34m\u001b[0m\u001b[0m\n\u001b[0;32m--> 158\u001b[0;31m         \u001b[0;32mreturn\u001b[0m \u001b[0mnumpy\u001b[0m\u001b[0;34m.\u001b[0m\u001b[0mamax\u001b[0m\u001b[0;34m(\u001b[0m\u001b[0mnumpy\u001b[0m\u001b[0;34m.\u001b[0m\u001b[0mabs\u001b[0m\u001b[0;34m(\u001b[0m\u001b[0mx\u001b[0m\u001b[0;34m)\u001b[0m\u001b[0;34m)\u001b[0m\u001b[0;34m\u001b[0m\u001b[0;34m\u001b[0m\u001b[0m\n\u001b[0m\u001b[1;32m    159\u001b[0m     \u001b[0;32melif\u001b[0m \u001b[0mord\u001b[0m \u001b[0;34m==\u001b[0m \u001b[0;34m-\u001b[0m\u001b[0mInf\u001b[0m\u001b[0;34m:\u001b[0m\u001b[0;34m\u001b[0m\u001b[0;34m\u001b[0m\u001b[0m\n\u001b[1;32m    160\u001b[0m         \u001b[0;32mreturn\u001b[0m \u001b[0mnumpy\u001b[0m\u001b[0;34m.\u001b[0m\u001b[0mamin\u001b[0m\u001b[0;34m(\u001b[0m\u001b[0mnumpy\u001b[0m\u001b[0;34m.\u001b[0m\u001b[0mabs\u001b[0m\u001b[0;34m(\u001b[0m\u001b[0mx\u001b[0m\u001b[0;34m)\u001b[0m\u001b[0;34m)\u001b[0m\u001b[0;34m\u001b[0m\u001b[0;34m\u001b[0m\u001b[0m\n",
      "\u001b[0;32m/anaconda3/lib/python3.7/site-packages/numpy/core/fromnumeric.py\u001b[0m in \u001b[0;36mamax\u001b[0;34m(a, axis, out, keepdims, initial)\u001b[0m\n\u001b[1;32m   2332\u001b[0m     \"\"\"\n\u001b[1;32m   2333\u001b[0m     return _wrapreduction(a, np.maximum, 'max', axis, None, out, keepdims=keepdims,\n\u001b[0;32m-> 2334\u001b[0;31m                           initial=initial)\n\u001b[0m\u001b[1;32m   2335\u001b[0m \u001b[0;34m\u001b[0m\u001b[0m\n\u001b[1;32m   2336\u001b[0m \u001b[0;34m\u001b[0m\u001b[0m\n",
      "\u001b[0;32m/anaconda3/lib/python3.7/site-packages/numpy/core/fromnumeric.py\u001b[0m in \u001b[0;36m_wrapreduction\u001b[0;34m(obj, ufunc, method, axis, dtype, out, **kwargs)\u001b[0m\n\u001b[1;32m     81\u001b[0m                 \u001b[0;32mreturn\u001b[0m \u001b[0mreduction\u001b[0m\u001b[0;34m(\u001b[0m\u001b[0maxis\u001b[0m\u001b[0;34m=\u001b[0m\u001b[0maxis\u001b[0m\u001b[0;34m,\u001b[0m \u001b[0mout\u001b[0m\u001b[0;34m=\u001b[0m\u001b[0mout\u001b[0m\u001b[0;34m,\u001b[0m \u001b[0;34m**\u001b[0m\u001b[0mpasskwargs\u001b[0m\u001b[0;34m)\u001b[0m\u001b[0;34m\u001b[0m\u001b[0;34m\u001b[0m\u001b[0m\n\u001b[1;32m     82\u001b[0m \u001b[0;34m\u001b[0m\u001b[0m\n\u001b[0;32m---> 83\u001b[0;31m     \u001b[0;32mreturn\u001b[0m \u001b[0mufunc\u001b[0m\u001b[0;34m.\u001b[0m\u001b[0mreduce\u001b[0m\u001b[0;34m(\u001b[0m\u001b[0mobj\u001b[0m\u001b[0;34m,\u001b[0m \u001b[0maxis\u001b[0m\u001b[0;34m,\u001b[0m \u001b[0mdtype\u001b[0m\u001b[0;34m,\u001b[0m \u001b[0mout\u001b[0m\u001b[0;34m,\u001b[0m \u001b[0;34m**\u001b[0m\u001b[0mpasskwargs\u001b[0m\u001b[0;34m)\u001b[0m\u001b[0;34m\u001b[0m\u001b[0;34m\u001b[0m\u001b[0m\n\u001b[0m\u001b[1;32m     84\u001b[0m \u001b[0;34m\u001b[0m\u001b[0m\n\u001b[1;32m     85\u001b[0m \u001b[0;34m\u001b[0m\u001b[0m\n",
      "\u001b[0;31mValueError\u001b[0m: zero-size array to reduction operation maximum which has no identity"
     ]
    }
   ],
   "source": [
    "results_=[]\n",
    "for k in [100, 150, 200, 250, 300, 350]:\n",
    "    for coef0 in \n",
    "        for gamma in [0.1, 1, 10, 100]:\n",
    "            for degree in [0.1, 1, 10, 100]:\n",
    "                kernel_pol = lambda X, Y: polynomial_kernel(X, Y, \n",
    "                                                            degree=degree, gamma=gamma,\n",
    "                                                            coef0=coef0)\n",
    "                print(\"degree\", degree, \"gamma\", gamma, \"coef0\", coef0)\n",
    "                acc = results(idx_f, k, k, kernel_se)\n",
    "                results_.append((k, gain, len_, acc))"
   ]
  },
  {
   "cell_type": "code",
   "execution_count": 61,
   "metadata": {},
   "outputs": [],
   "source": [
    "data=pd.DataFrame(results_,columns=[\"k\", \"coef0\", \"gamma\", \"degree\", \"accuracy\"])\n",
    "#data"
   ]
  },
  {
   "cell_type": "code",
   "execution_count": 62,
   "metadata": {},
   "outputs": [
    {
     "data": {
      "text/html": [
       "<div>\n",
       "<style scoped>\n",
       "    .dataframe tbody tr th:only-of-type {\n",
       "        vertical-align: middle;\n",
       "    }\n",
       "\n",
       "    .dataframe tbody tr th {\n",
       "        vertical-align: top;\n",
       "    }\n",
       "\n",
       "    .dataframe thead tr th {\n",
       "        text-align: left;\n",
       "    }\n",
       "\n",
       "    .dataframe thead tr:last-of-type th {\n",
       "        text-align: right;\n",
       "    }\n",
       "</style>\n",
       "<table border=\"1\" class=\"dataframe\">\n",
       "  <thead>\n",
       "    <tr>\n",
       "      <th></th>\n",
       "      <th colspan=\"4\" halign=\"left\">accuracy</th>\n",
       "    </tr>\n",
       "    <tr>\n",
       "      <th>length</th>\n",
       "      <th>0.1</th>\n",
       "      <th>1.0</th>\n",
       "      <th>10.0</th>\n",
       "      <th>100.0</th>\n",
       "    </tr>\n",
       "    <tr>\n",
       "      <th>gain</th>\n",
       "      <th></th>\n",
       "      <th></th>\n",
       "      <th></th>\n",
       "      <th></th>\n",
       "    </tr>\n",
       "  </thead>\n",
       "  <tbody>\n",
       "    <tr>\n",
       "      <th>0.1</th>\n",
       "      <td>0.9500</td>\n",
       "      <td>0.9504</td>\n",
       "      <td>0.9505</td>\n",
       "      <td>0.9457</td>\n",
       "    </tr>\n",
       "    <tr>\n",
       "      <th>1.0</th>\n",
       "      <td>0.9628</td>\n",
       "      <td>0.9615</td>\n",
       "      <td>0.9427</td>\n",
       "      <td>0.9550</td>\n",
       "    </tr>\n",
       "    <tr>\n",
       "      <th>10.0</th>\n",
       "      <td>0.9587</td>\n",
       "      <td>0.9509</td>\n",
       "      <td>0.9477</td>\n",
       "      <td>0.9466</td>\n",
       "    </tr>\n",
       "    <tr>\n",
       "      <th>100.0</th>\n",
       "      <td>0.9548</td>\n",
       "      <td>0.9420</td>\n",
       "      <td>0.9500</td>\n",
       "      <td>0.9480</td>\n",
       "    </tr>\n",
       "  </tbody>\n",
       "</table>\n",
       "</div>"
      ],
      "text/plain": [
       "       accuracy                        \n",
       "length    0.1     1.0     10.0    100.0\n",
       "gain                                   \n",
       "0.1      0.9500  0.9504  0.9505  0.9457\n",
       "1.0      0.9628  0.9615  0.9427  0.9550\n",
       "10.0     0.9587  0.9509  0.9477  0.9466\n",
       "100.0    0.9548  0.9420  0.9500  0.9480"
      ]
     },
     "execution_count": 62,
     "metadata": {},
     "output_type": "execute_result"
    }
   ],
   "source": [
    "data_100 = data[data['k'] == 100]\n",
    "del data_100['k']\n",
    "pivot_100=data_100.pivot('gain',  'length')\n",
    "pivot_100"
   ]
  },
  {
   "cell_type": "code",
   "execution_count": 63,
   "metadata": {},
   "outputs": [
    {
     "name": "stderr",
     "output_type": "stream",
     "text": [
      "/anaconda3/lib/python3.7/site-packages/ipykernel_launcher.py:1: FutureWarning: \n",
      "The current behaviour of 'Series.argmax' is deprecated, use 'idxmax'\n",
      "instead.\n",
      "The behavior of 'argmax' will be corrected to return the positional\n",
      "maximum in the future. For now, use 'series.values.argmax' or\n",
      "'np.argmax(np.array(values))' to get the position of the maximum\n",
      "row.\n",
      "  \"\"\"Entry point for launching an IPython kernel.\n"
     ]
    },
    {
     "data": {
      "text/plain": [
       "gain        1.0000\n",
       "length      0.1000\n",
       "accuracy    0.9628\n",
       "Name: 4, dtype: float64"
      ]
     },
     "execution_count": 63,
     "metadata": {},
     "output_type": "execute_result"
    }
   ],
   "source": [
    "best_idx=data_100[\"accuracy\"].argmax()\n",
    "best=data_100.iloc[best_idx]\n",
    "gain=best[\"gain\"]\n",
    "length=best[\"length\"]\n",
    "best"
   ]
  },
  {
   "cell_type": "code",
   "execution_count": 64,
   "metadata": {},
   "outputs": [
    {
     "data": {
      "text/html": [
       "<div>\n",
       "<style scoped>\n",
       "    .dataframe tbody tr th:only-of-type {\n",
       "        vertical-align: middle;\n",
       "    }\n",
       "\n",
       "    .dataframe tbody tr th {\n",
       "        vertical-align: top;\n",
       "    }\n",
       "\n",
       "    .dataframe thead tr th {\n",
       "        text-align: left;\n",
       "    }\n",
       "\n",
       "    .dataframe thead tr:last-of-type th {\n",
       "        text-align: right;\n",
       "    }\n",
       "</style>\n",
       "<table border=\"1\" class=\"dataframe\">\n",
       "  <thead>\n",
       "    <tr>\n",
       "      <th></th>\n",
       "      <th colspan=\"4\" halign=\"left\">accuracy</th>\n",
       "    </tr>\n",
       "    <tr>\n",
       "      <th>length</th>\n",
       "      <th>0.1</th>\n",
       "      <th>1.0</th>\n",
       "      <th>10.0</th>\n",
       "      <th>100.0</th>\n",
       "    </tr>\n",
       "    <tr>\n",
       "      <th>gain</th>\n",
       "      <th></th>\n",
       "      <th></th>\n",
       "      <th></th>\n",
       "      <th></th>\n",
       "    </tr>\n",
       "  </thead>\n",
       "  <tbody>\n",
       "    <tr>\n",
       "      <th>0.1</th>\n",
       "      <td>0.9681</td>\n",
       "      <td>0.9693</td>\n",
       "      <td>0.9686</td>\n",
       "      <td>0.9657</td>\n",
       "    </tr>\n",
       "    <tr>\n",
       "      <th>1.0</th>\n",
       "      <td>0.9727</td>\n",
       "      <td>0.9656</td>\n",
       "      <td>0.9644</td>\n",
       "      <td>0.9665</td>\n",
       "    </tr>\n",
       "    <tr>\n",
       "      <th>10.0</th>\n",
       "      <td>0.9712</td>\n",
       "      <td>0.9622</td>\n",
       "      <td>0.9657</td>\n",
       "      <td>0.9636</td>\n",
       "    </tr>\n",
       "    <tr>\n",
       "      <th>100.0</th>\n",
       "      <td>0.9694</td>\n",
       "      <td>0.9662</td>\n",
       "      <td>0.9666</td>\n",
       "      <td>0.9636</td>\n",
       "    </tr>\n",
       "  </tbody>\n",
       "</table>\n",
       "</div>"
      ],
      "text/plain": [
       "       accuracy                        \n",
       "length    0.1     1.0     10.0    100.0\n",
       "gain                                   \n",
       "0.1      0.9681  0.9693  0.9686  0.9657\n",
       "1.0      0.9727  0.9656  0.9644  0.9665\n",
       "10.0     0.9712  0.9622  0.9657  0.9636\n",
       "100.0    0.9694  0.9662  0.9666  0.9636"
      ]
     },
     "execution_count": 64,
     "metadata": {},
     "output_type": "execute_result"
    }
   ],
   "source": [
    "data_150 = data[data['k'] == 150]\n",
    "del data_150['k']\n",
    "pivot_150=data_150.pivot('gain',  'length')\n",
    "pivot_150"
   ]
  },
  {
   "cell_type": "code",
   "execution_count": 65,
   "metadata": {},
   "outputs": [
    {
     "name": "stderr",
     "output_type": "stream",
     "text": [
      "/anaconda3/lib/python3.7/site-packages/ipykernel_launcher.py:1: FutureWarning: \n",
      "The current behaviour of 'Series.argmax' is deprecated, use 'idxmax'\n",
      "instead.\n",
      "The behavior of 'argmax' will be corrected to return the positional\n",
      "maximum in the future. For now, use 'series.values.argmax' or\n",
      "'np.argmax(np.array(values))' to get the position of the maximum\n",
      "row.\n",
      "  \"\"\"Entry point for launching an IPython kernel.\n"
     ]
    },
    {
     "data": {
      "text/plain": [
       "gain        1.0000\n",
       "length      0.1000\n",
       "accuracy    0.9727\n",
       "Name: 20, dtype: float64"
      ]
     },
     "execution_count": 65,
     "metadata": {},
     "output_type": "execute_result"
    }
   ],
   "source": [
    "best_idx=data_150[\"accuracy\"].argmax()\n",
    "best=data_150.loc[best_idx]\n",
    "gain=best[\"gain\"]\n",
    "length=best[\"length\"]\n",
    "best"
   ]
  },
  {
   "cell_type": "code",
   "execution_count": 66,
   "metadata": {},
   "outputs": [
    {
     "data": {
      "text/html": [
       "<div>\n",
       "<style scoped>\n",
       "    .dataframe tbody tr th:only-of-type {\n",
       "        vertical-align: middle;\n",
       "    }\n",
       "\n",
       "    .dataframe tbody tr th {\n",
       "        vertical-align: top;\n",
       "    }\n",
       "\n",
       "    .dataframe thead tr th {\n",
       "        text-align: left;\n",
       "    }\n",
       "\n",
       "    .dataframe thead tr:last-of-type th {\n",
       "        text-align: right;\n",
       "    }\n",
       "</style>\n",
       "<table border=\"1\" class=\"dataframe\">\n",
       "  <thead>\n",
       "    <tr>\n",
       "      <th></th>\n",
       "      <th colspan=\"4\" halign=\"left\">accuracy</th>\n",
       "    </tr>\n",
       "    <tr>\n",
       "      <th>length</th>\n",
       "      <th>0.1</th>\n",
       "      <th>1.0</th>\n",
       "      <th>10.0</th>\n",
       "      <th>100.0</th>\n",
       "    </tr>\n",
       "    <tr>\n",
       "      <th>gain</th>\n",
       "      <th></th>\n",
       "      <th></th>\n",
       "      <th></th>\n",
       "      <th></th>\n",
       "    </tr>\n",
       "  </thead>\n",
       "  <tbody>\n",
       "    <tr>\n",
       "      <th>0.1</th>\n",
       "      <td>0.9756</td>\n",
       "      <td>0.9714</td>\n",
       "      <td>0.9735</td>\n",
       "      <td>0.9732</td>\n",
       "    </tr>\n",
       "    <tr>\n",
       "      <th>1.0</th>\n",
       "      <td>0.9741</td>\n",
       "      <td>0.9755</td>\n",
       "      <td>0.9711</td>\n",
       "      <td>0.9696</td>\n",
       "    </tr>\n",
       "    <tr>\n",
       "      <th>10.0</th>\n",
       "      <td>0.9754</td>\n",
       "      <td>0.9704</td>\n",
       "      <td>0.9700</td>\n",
       "      <td>0.9708</td>\n",
       "    </tr>\n",
       "    <tr>\n",
       "      <th>100.0</th>\n",
       "      <td>0.9754</td>\n",
       "      <td>NaN</td>\n",
       "      <td>NaN</td>\n",
       "      <td>NaN</td>\n",
       "    </tr>\n",
       "  </tbody>\n",
       "</table>\n",
       "</div>"
      ],
      "text/plain": [
       "       accuracy                        \n",
       "length    0.1     1.0     10.0    100.0\n",
       "gain                                   \n",
       "0.1      0.9756  0.9714  0.9735  0.9732\n",
       "1.0      0.9741  0.9755  0.9711  0.9696\n",
       "10.0     0.9754  0.9704  0.9700  0.9708\n",
       "100.0    0.9754     NaN     NaN     NaN"
      ]
     },
     "execution_count": 66,
     "metadata": {},
     "output_type": "execute_result"
    }
   ],
   "source": [
    "data_200 = data[data['k'] == 200]\n",
    "del data_200['k']\n",
    "pivot_200=data_200.pivot('gain',  'length')\n",
    "pivot_200"
   ]
  },
  {
   "cell_type": "code",
   "execution_count": 67,
   "metadata": {},
   "outputs": [
    {
     "name": "stderr",
     "output_type": "stream",
     "text": [
      "/anaconda3/lib/python3.7/site-packages/ipykernel_launcher.py:1: FutureWarning: \n",
      "The current behaviour of 'Series.argmax' is deprecated, use 'idxmax'\n",
      "instead.\n",
      "The behavior of 'argmax' will be corrected to return the positional\n",
      "maximum in the future. For now, use 'series.values.argmax' or\n",
      "'np.argmax(np.array(values))' to get the position of the maximum\n",
      "row.\n",
      "  \"\"\"Entry point for launching an IPython kernel.\n"
     ]
    },
    {
     "data": {
      "text/plain": [
       "gain        0.1000\n",
       "length      0.1000\n",
       "accuracy    0.9756\n",
       "Name: 32, dtype: float64"
      ]
     },
     "execution_count": 67,
     "metadata": {},
     "output_type": "execute_result"
    }
   ],
   "source": [
    "best_idx=data_200[\"accuracy\"].argmax()\n",
    "best=data_200.loc[best_idx]\n",
    "gain=best[\"gain\"]\n",
    "length=best[\"length\"]\n",
    "best"
   ]
  },
  {
   "cell_type": "code",
   "execution_count": 68,
   "metadata": {},
   "outputs": [
    {
     "data": {
      "text/html": [
       "<div>\n",
       "<style scoped>\n",
       "    .dataframe tbody tr th:only-of-type {\n",
       "        vertical-align: middle;\n",
       "    }\n",
       "\n",
       "    .dataframe tbody tr th {\n",
       "        vertical-align: top;\n",
       "    }\n",
       "\n",
       "    .dataframe thead tr th {\n",
       "        text-align: left;\n",
       "    }\n",
       "\n",
       "    .dataframe thead tr:last-of-type th {\n",
       "        text-align: right;\n",
       "    }\n",
       "</style>\n",
       "<table border=\"1\" class=\"dataframe\">\n",
       "  <thead>\n",
       "    <tr>\n",
       "      <th></th>\n",
       "      <th colspan=\"4\" halign=\"left\">accuracy</th>\n",
       "    </tr>\n",
       "    <tr>\n",
       "      <th>length</th>\n",
       "      <th>0.1</th>\n",
       "      <th>1.0</th>\n",
       "      <th>10.0</th>\n",
       "      <th>100.0</th>\n",
       "    </tr>\n",
       "    <tr>\n",
       "      <th>gain</th>\n",
       "      <th></th>\n",
       "      <th></th>\n",
       "      <th></th>\n",
       "      <th></th>\n",
       "    </tr>\n",
       "  </thead>\n",
       "  <tbody>\n",
       "    <tr>\n",
       "      <th>1.0</th>\n",
       "      <td>0.9776</td>\n",
       "      <td>0.9793</td>\n",
       "      <td>0.9763</td>\n",
       "      <td>0.9761</td>\n",
       "    </tr>\n",
       "    <tr>\n",
       "      <th>10.0</th>\n",
       "      <td>0.9778</td>\n",
       "      <td>0.9776</td>\n",
       "      <td>0.9746</td>\n",
       "      <td>0.9751</td>\n",
       "    </tr>\n",
       "  </tbody>\n",
       "</table>\n",
       "</div>"
      ],
      "text/plain": [
       "       accuracy                        \n",
       "length    0.1     1.0     10.0    100.0\n",
       "gain                                   \n",
       "1.0      0.9776  0.9793  0.9763  0.9761\n",
       "10.0     0.9778  0.9776  0.9746  0.9751"
      ]
     },
     "execution_count": 68,
     "metadata": {},
     "output_type": "execute_result"
    }
   ],
   "source": [
    "data_250 = data[data['k'] == 250]\n",
    "del data_250['k']\n",
    "pivot_250=data_250.pivot('gain',  'length')\n",
    "pivot_250"
   ]
  },
  {
   "cell_type": "code",
   "execution_count": 69,
   "metadata": {},
   "outputs": [
    {
     "name": "stderr",
     "output_type": "stream",
     "text": [
      "/anaconda3/lib/python3.7/site-packages/ipykernel_launcher.py:1: FutureWarning: \n",
      "The current behaviour of 'Series.argmax' is deprecated, use 'idxmax'\n",
      "instead.\n",
      "The behavior of 'argmax' will be corrected to return the positional\n",
      "maximum in the future. For now, use 'series.values.argmax' or\n",
      "'np.argmax(np.array(values))' to get the position of the maximum\n",
      "row.\n",
      "  \"\"\"Entry point for launching an IPython kernel.\n"
     ]
    },
    {
     "data": {
      "text/plain": [
       "gain        1.0000\n",
       "length      1.0000\n",
       "accuracy    0.9793\n",
       "Name: 46, dtype: float64"
      ]
     },
     "execution_count": 69,
     "metadata": {},
     "output_type": "execute_result"
    }
   ],
   "source": [
    "best_idx=data_250[\"accuracy\"].argmax()\n",
    "best=data_250.loc[best_idx]\n",
    "gain=best[\"gain\"]\n",
    "length=best[\"length\"]\n",
    "best"
   ]
  },
  {
   "cell_type": "code",
   "execution_count": 70,
   "metadata": {},
   "outputs": [
    {
     "data": {
      "text/html": [
       "<div>\n",
       "<style scoped>\n",
       "    .dataframe tbody tr th:only-of-type {\n",
       "        vertical-align: middle;\n",
       "    }\n",
       "\n",
       "    .dataframe tbody tr th {\n",
       "        vertical-align: top;\n",
       "    }\n",
       "\n",
       "    .dataframe thead tr th {\n",
       "        text-align: left;\n",
       "    }\n",
       "\n",
       "    .dataframe thead tr:last-of-type th {\n",
       "        text-align: right;\n",
       "    }\n",
       "</style>\n",
       "<table border=\"1\" class=\"dataframe\">\n",
       "  <thead>\n",
       "    <tr>\n",
       "      <th></th>\n",
       "      <th colspan=\"4\" halign=\"left\">accuracy</th>\n",
       "    </tr>\n",
       "    <tr>\n",
       "      <th>length</th>\n",
       "      <th>0.1</th>\n",
       "      <th>1.0</th>\n",
       "      <th>10.0</th>\n",
       "      <th>100.0</th>\n",
       "    </tr>\n",
       "    <tr>\n",
       "      <th>gain</th>\n",
       "      <th></th>\n",
       "      <th></th>\n",
       "      <th></th>\n",
       "      <th></th>\n",
       "    </tr>\n",
       "  </thead>\n",
       "  <tbody>\n",
       "    <tr>\n",
       "      <th>1.0</th>\n",
       "      <td>0.9787</td>\n",
       "      <td>0.9794</td>\n",
       "      <td>0.9777</td>\n",
       "      <td>NaN</td>\n",
       "    </tr>\n",
       "    <tr>\n",
       "      <th>10.0</th>\n",
       "      <td>NaN</td>\n",
       "      <td>NaN</td>\n",
       "      <td>NaN</td>\n",
       "      <td>0.9774</td>\n",
       "    </tr>\n",
       "  </tbody>\n",
       "</table>\n",
       "</div>"
      ],
      "text/plain": [
       "       accuracy                        \n",
       "length    0.1     1.0     10.0    100.0\n",
       "gain                                   \n",
       "1.0      0.9787  0.9794  0.9777     NaN\n",
       "10.0        NaN     NaN     NaN  0.9774"
      ]
     },
     "execution_count": 70,
     "metadata": {},
     "output_type": "execute_result"
    }
   ],
   "source": [
    "data_300 = data[data['k'] == 300]\n",
    "del data_300['k']\n",
    "pivot_300=data_300.pivot('gain',  'length')\n",
    "pivot_300"
   ]
  },
  {
   "cell_type": "code",
   "execution_count": 71,
   "metadata": {},
   "outputs": [
    {
     "name": "stderr",
     "output_type": "stream",
     "text": [
      "/anaconda3/lib/python3.7/site-packages/ipykernel_launcher.py:1: FutureWarning: \n",
      "The current behaviour of 'Series.argmax' is deprecated, use 'idxmax'\n",
      "instead.\n",
      "The behavior of 'argmax' will be corrected to return the positional\n",
      "maximum in the future. For now, use 'series.values.argmax' or\n",
      "'np.argmax(np.array(values))' to get the position of the maximum\n",
      "row.\n",
      "  \"\"\"Entry point for launching an IPython kernel.\n"
     ]
    },
    {
     "data": {
      "text/plain": [
       "gain        1.0000\n",
       "length      1.0000\n",
       "accuracy    0.9794\n",
       "Name: 54, dtype: float64"
      ]
     },
     "execution_count": 71,
     "metadata": {},
     "output_type": "execute_result"
    }
   ],
   "source": [
    "best_idx=data_300[\"accuracy\"].argmax()\n",
    "best=data_300.loc[best_idx]\n",
    "gain=best[\"gain\"]\n",
    "length=best[\"length\"]\n",
    "best"
   ]
  },
  {
   "cell_type": "code",
   "execution_count": 91,
   "metadata": {},
   "outputs": [],
   "source": [
    "data_350 = data[data['k'] == 350]\n",
    "del data_350['k']"
   ]
  },
  {
   "cell_type": "code",
   "execution_count": 73,
   "metadata": {},
   "outputs": [
    {
     "name": "stderr",
     "output_type": "stream",
     "text": [
      "/anaconda3/lib/python3.7/site-packages/ipykernel_launcher.py:1: FutureWarning: \n",
      "The current behaviour of 'Series.argmax' is deprecated, use 'idxmax'\n",
      "instead.\n",
      "The behavior of 'argmax' will be corrected to return the positional\n",
      "maximum in the future. For now, use 'series.values.argmax' or\n",
      "'np.argmax(np.array(values))' to get the position of the maximum\n",
      "row.\n",
      "  \"\"\"Entry point for launching an IPython kernel.\n"
     ]
    },
    {
     "data": {
      "text/plain": [
       "gain        10.0000\n",
       "length       0.1000\n",
       "accuracy     0.9802\n",
       "Name: 61, dtype: float64"
      ]
     },
     "execution_count": 73,
     "metadata": {},
     "output_type": "execute_result"
    }
   ],
   "source": [
    "best_idx=data_350[\"accuracy\"].argmax()\n",
    "best=data_350.loc[best_idx]\n",
    "gain=best[\"gain\"]\n",
    "length=best[\"length\"]\n",
    "best"
   ]
  },
  {
   "cell_type": "code",
   "execution_count": 84,
   "metadata": {},
   "outputs": [],
   "source": [
    "idx_f = np.arange(1100)"
   ]
  },
  {
   "cell_type": "code",
   "execution_count": 85,
   "metadata": {
    "scrolled": true
   },
   "outputs": [
    {
     "name": "stdout",
     "output_type": "stream",
     "text": [
      "k 100\n",
      "begin pruning for layer 1\n",
      "end pruning for layer 1\n",
      "begin reweighting for layer 1\n",
      "step 0\n",
      "step 50\n",
      "step 100\n",
      "step 150\n",
      "step 200\n",
      "step 250\n",
      "step 300\n",
      "step 350\n",
      "end reweighting for layer 1\n",
      "begin pruning for layer 2\n",
      "end pruning for layer 2\n",
      "begin reweighting for layer 2\n",
      "step 0\n",
      "step 50\n",
      "step 100\n",
      "step 150\n",
      "step 200\n",
      "step 250\n",
      "step 300\n",
      "step 350\n",
      "end reweighting for layer 2\n",
      "k 150\n",
      "begin pruning for layer 1\n",
      "end pruning for layer 1\n",
      "begin reweighting for layer 1\n",
      "step 0\n",
      "step 50\n",
      "step 100\n",
      "step 150\n",
      "step 200\n",
      "step 250\n",
      "step 300\n",
      "end reweighting for layer 1\n",
      "begin pruning for layer 2\n",
      "end pruning for layer 2\n",
      "begin reweighting for layer 2\n",
      "step 0\n",
      "step 50\n",
      "step 100\n",
      "step 150\n",
      "step 200\n",
      "step 250\n",
      "step 300\n",
      "end reweighting for layer 2\n",
      "k 200\n",
      "begin pruning for layer 1\n",
      "end pruning for layer 1\n",
      "begin reweighting for layer 1\n",
      "step 0\n",
      "step 50\n",
      "step 100\n",
      "step 150\n",
      "step 200\n",
      "step 250\n",
      "end reweighting for layer 1\n",
      "begin pruning for layer 2\n",
      "end pruning for layer 2\n",
      "begin reweighting for layer 2\n",
      "step 0\n",
      "step 50\n",
      "step 100\n",
      "step 150\n",
      "step 200\n",
      "step 250\n",
      "end reweighting for layer 2\n",
      "k 250\n",
      "begin pruning for layer 1\n",
      "end pruning for layer 1\n",
      "begin reweighting for layer 1\n",
      "step 0\n",
      "step 50\n",
      "step 100\n",
      "step 150\n",
      "step 200\n",
      "end reweighting for layer 1\n",
      "begin pruning for layer 2\n",
      "end pruning for layer 2\n",
      "begin reweighting for layer 2\n",
      "step 0\n",
      "step 50\n",
      "step 100\n",
      "step 150\n",
      "step 200\n",
      "end reweighting for layer 2\n",
      "k 300\n",
      "begin pruning for layer 1\n",
      "end pruning for layer 1\n",
      "begin reweighting for layer 1\n",
      "step 0\n",
      "step 50\n",
      "step 100\n",
      "step 150\n",
      "end reweighting for layer 1\n",
      "begin pruning for layer 2\n",
      "end pruning for layer 2\n",
      "begin reweighting for layer 2\n",
      "step 0\n",
      "step 50\n",
      "step 100\n",
      "step 150\n",
      "end reweighting for layer 2\n",
      "k 350\n",
      "begin pruning for layer 1\n",
      "end pruning for layer 1\n",
      "begin reweighting for layer 1\n",
      "step 0\n",
      "step 50\n",
      "step 100\n",
      "end reweighting for layer 1\n",
      "begin pruning for layer 2\n",
      "end pruning for layer 2\n",
      "begin reweighting for layer 2\n",
      "step 0\n",
      "step 50\n",
      "step 100\n",
      "end reweighting for layer 2\n",
      "k 400\n",
      "begin pruning for layer 1\n",
      "end pruning for layer 1\n",
      "begin reweighting for layer 1\n",
      "step 0\n",
      "step 50\n",
      "end reweighting for layer 1\n",
      "begin pruning for layer 2\n",
      "end pruning for layer 2\n",
      "begin reweighting for layer 2\n",
      "step 0\n",
      "step 50\n",
      "end reweighting for layer 2\n"
     ]
    }
   ],
   "source": [
    "results_a=[]\n",
    "for k in [100, 150, 200, 250, 300, 350, 400]:\n",
    "    print(\"k\", k)\n",
    "    acc = results(idx_f, k, k, angular)\n",
    "    results_a.append((k, acc))"
   ]
  },
  {
   "cell_type": "code",
   "execution_count": 89,
   "metadata": {},
   "outputs": [
    {
     "data": {
      "text/html": [
       "<div>\n",
       "<style scoped>\n",
       "    .dataframe tbody tr th:only-of-type {\n",
       "        vertical-align: middle;\n",
       "    }\n",
       "\n",
       "    .dataframe tbody tr th {\n",
       "        vertical-align: top;\n",
       "    }\n",
       "\n",
       "    .dataframe thead th {\n",
       "        text-align: right;\n",
       "    }\n",
       "</style>\n",
       "<table border=\"1\" class=\"dataframe\">\n",
       "  <thead>\n",
       "    <tr style=\"text-align: right;\">\n",
       "      <th></th>\n",
       "      <th>k</th>\n",
       "      <th>accuracy</th>\n",
       "    </tr>\n",
       "  </thead>\n",
       "  <tbody>\n",
       "    <tr>\n",
       "      <th>0</th>\n",
       "      <td>100</td>\n",
       "      <td>0.9307</td>\n",
       "    </tr>\n",
       "    <tr>\n",
       "      <th>1</th>\n",
       "      <td>150</td>\n",
       "      <td>0.9557</td>\n",
       "    </tr>\n",
       "    <tr>\n",
       "      <th>2</th>\n",
       "      <td>200</td>\n",
       "      <td>0.9668</td>\n",
       "    </tr>\n",
       "    <tr>\n",
       "      <th>3</th>\n",
       "      <td>250</td>\n",
       "      <td>0.9721</td>\n",
       "    </tr>\n",
       "    <tr>\n",
       "      <th>4</th>\n",
       "      <td>300</td>\n",
       "      <td>0.9755</td>\n",
       "    </tr>\n",
       "    <tr>\n",
       "      <th>5</th>\n",
       "      <td>350</td>\n",
       "      <td>0.9757</td>\n",
       "    </tr>\n",
       "    <tr>\n",
       "      <th>6</th>\n",
       "      <td>400</td>\n",
       "      <td>0.9780</td>\n",
       "    </tr>\n",
       "  </tbody>\n",
       "</table>\n",
       "</div>"
      ],
      "text/plain": [
       "     k  accuracy\n",
       "0  100    0.9307\n",
       "1  150    0.9557\n",
       "2  200    0.9668\n",
       "3  250    0.9721\n",
       "4  300    0.9755\n",
       "5  350    0.9757\n",
       "6  400    0.9780"
      ]
     },
     "execution_count": 89,
     "metadata": {},
     "output_type": "execute_result"
    }
   ],
   "source": [
    "data_a = pd.DataFrame(results_a, columns=[\"k\",\"accuracy\"])\n",
    "data_a"
   ]
  },
  {
   "cell_type": "code",
   "execution_count": 101,
   "metadata": {},
   "outputs": [
    {
     "data": {
      "image/png": "[encoded data removed]",
      "text/plain": [
       "<Figure size 432x288 with 1 Axes>"
      ]
     },
     "metadata": {
      "needs_background": "light"
     },
     "output_type": "display_data"
    }
   ],
   "source": [
    "Best_Gauss = np.array([0.9628, 0.9727, 0.9756, 0.9793, 0.9794, 0.9802, 0.9802])\n",
    "Best_ang = np.array(data_a[\"accuracy\"])\n",
    "Best = np.array([0.9802 for i in range(7)])\n",
    "x = np.array([100, 150, 200, 250, 300, 350, 400])\n",
    "plt.plot(x, Best_Gauss, color = 'r', label = \"Gaussian Kernel\")\n",
    "plt.plot(x, Best_ang, color = 'y', label = \"Angular Kernel\")\n",
    "plt.xlabel(\"Number of Neurons per layer\")\n",
    "plt.ylabel(\"Accuracy\")\n",
    "plt.plot(x, Best, label = \"target\")\n",
    "plt.legend()\n",
    "plt.title(\"Network Compression Results\")\n",
    "plt.show()"
   ]
  },
  {
   "cell_type": "code",
   "execution_count": 100,
   "metadata": {},
   "outputs": [
    {
     "data": {
      "image/png": "[encoded data removed]",
      "text/plain": [
       "<Figure size 432x288 with 1 Axes>"
      ]
     },
     "metadata": {
      "needs_background": "light"
     },
     "output_type": "display_data"
    }
   ],
   "source": [
    "Best_Gauss = 100 * np.array([(0.9802 - 0.9628)/0.9628, (0.9802 - 0.9727)/ 0.9727, (0.9802 - 0.9756)/0.9756\n",
    "                       , (0.9802 - 0.9793)/0.9793, (0.9802 - 0.9794)/0.9794, 0, 0])\n",
    "Best_ang = 100 * np.array((0.9802 - data_a[\"accuracy\"])/data_a[\"accuracy\"])\n",
    "x = np.array([100, 150, 200, 250, 300, 350, 400])\n",
    "plt.plot(x, Best_Gauss, color = 'r', label = \"Gaussian Kernel\")\n",
    "plt.plot(x, Best_ang, color = 'y', label = \"Angular Kernel\")\n",
    "plt.xlabel(\"Number of Neurons per layer\")\n",
    "plt.ylabel(\"Accuracy Error in %\")\n",
    "plt.legend()\n",
    "plt.title(\"Network Compression Results\")\n",
    "plt.show()"
   ]
  },
  {
   "cell_type": "code",
   "execution_count": null,
   "metadata": {},
   "outputs": [],
   "source": []
  }
 ],
 "metadata": {
  "kernelspec": {
   "display_name": "Python 3",
   "language": "python",
   "name": "python3"
  },
  "language_info": {
   "codemirror_mode": {
    "name": "ipython",
    "version": 3
   },
   "file_extension": ".py",
   "mimetype": "text/x-python",
   "name": "python",
   "nbconvert_exporter": "python",
   "pygments_lexer": "ipython3",
   "version": "3.7.7"
  }
 },
 "nbformat": 4,
 "nbformat_minor": 2
}
